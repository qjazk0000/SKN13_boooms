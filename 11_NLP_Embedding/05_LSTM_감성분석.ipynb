{
 "cells": [
  {
   "cell_type": "markdown",
   "id": "e93c9500-6e1f-445a-a5e1-95e687853ae8",
   "metadata": {},
   "source": [
    "# Pytorch의 nn.Embedding\n",
    "- Pytorch의 Embedding Layer는 word2vec과 마찬가지로 word embedding vector를 찾는 **Lookup Table**이다.\n",
    "    - 단어의 **정수의 고유 index**가 입력으로 들어오면 Embedding Layer의 **그 index의 Vector**를 출력한다.\n",
    "    - 모델이 학습되는 동안 모델이 풀려는 문제에 맞는 값으로 Embedding Layer의 vector들이 업데이트 된다.\n",
    "    - Word2Vec의 embedding vector 학습을 nn.Embedding은 자신이 포함된 모델을 학습 하는 과정에서 한다고 생각하면 된다."
   ]
  },
  {
   "cell_type": "code",
   "execution_count": 48,
   "id": "d936d8f7-a203-4452-978f-e2da81b7dafe",
   "metadata": {},
   "outputs": [],
   "source": [
    "import torch\n",
    "import torch.nn as nn\n",
    "\n",
    "embed = nn.Embedding(\n",
    "    num_embeddings=20_000,  # vocab size (단어사전의 단어 수(== 토큰 수)). 총 몇 개의 단어에 대해 embadding vector를 만들 지 결정.\n",
    "    embedding_dim=200,  # embedding vector의 차원 수 -> 개별 단어를 몇 개의 숫자(feature 수)로 표현 할 지. \n",
    ")"
   ]
  },
  {
   "cell_type": "code",
   "execution_count": 49,
   "id": "2d166e4e-4ced-4bc8-a188-12358670ad0d",
   "metadata": {},
   "outputs": [
    {
     "data": {
      "text/plain": [
       "torch.Size([20000, 200])"
      ]
     },
     "execution_count": 49,
     "metadata": {},
     "output_type": "execute_result"
    }
   ],
   "source": [
    "embed.weight  # 20_000개에 해당하는 단어의 embedding vector를 담고 있는 tensor\n",
    "              # embedding vector의 값은 무작위로 초기화됨.\n",
    "'''\n",
    "tensor([[ 1.5497, -0.6362, -0.9478,  ...,  0.4937, -0.4673,  1.4794],   -> 0번 단어(token)의 embedding 값\n",
    "        [-1.1480,  0.6673, -0.4344,  ..., -0.2853,  0.0451, -1.9179],   -> 1번 단어(token)의 embedding 값\n",
    "        [ 1.4725, -0.7229, -1.2255,  ...,  0.3216, -1.2296, -0.3463],\n",
    "        ...,\n",
    "'''\n",
    "\n",
    "embed.weight.shape  # torch.Size([20000, 200]) -> torch.Size([num_embeddings, embedding_dim])"
   ]
  },
  {
   "cell_type": "code",
   "execution_count": 50,
   "id": "bb8199e7",
   "metadata": {},
   "outputs": [
    {
     "data": {
      "text/plain": [
       "torch.Size([1, 4, 200])"
      ]
     },
     "execution_count": 50,
     "metadata": {},
     "output_type": "execute_result"
    }
   ],
   "source": [
    "# embedding layer의 입력 - 문서를 구성하는 토큰들의 ID(**정수-int type**)를 1차원으로 묶어서 전달.\n",
    "\n",
    "# embedding layer의 예시\n",
    "doc = \"나는 어제 밥을 먹었다\"   # 단어 별 토큰화\n",
    "                                # ex) doc = [[30, 159, 9000, 326]]  -> seq_len = 4, input_size = 1\n",
    "                                #                                     *sequence 길이 == time_step 수\n",
    "                                \n",
    "doc = torch.tensor([[30, 159, 9000, 326]], dtype=torch.int64)  # 예시 문장을 토큰화 후 ID 부여\n",
    "\n",
    "embedding_vector = embed(doc)  # 토큰화된 문장을 embedding layer에 전달하여 embedding vector를 얻음.\n",
    "\n",
    "embedding_vector.shape  # 출력 결과: torch.Size([1, 4, 200])\n",
    "                        #                   -> 1: batchsize\n",
    "                        #                   -> 4: seq_len\n",
    "                        #                   -> 200: embedding vector 차원 수 => 단어(token)의 featurem 수. 즉, 30이란 token ID를를 200개의 feature로 나타낸 것.\n"
   ]
  },
  {
   "cell_type": "code",
   "execution_count": 51,
   "id": "d50c56e7",
   "metadata": {},
   "outputs": [
    {
     "data": {
      "text/plain": [
       "tensor([ 0.6657,  0.4116, -1.7745, -0.0978, -0.8752, -0.3223, -0.5641,  0.3059,\n",
       "         1.1604,  0.0379,  0.6180, -1.7750, -0.6011, -0.3279, -0.4463,  0.7045,\n",
       "         0.5704, -0.7167, -0.2083,  1.0096, -0.4165, -1.0775, -1.2167,  2.0459,\n",
       "        -0.0848,  1.3473,  1.6597, -0.2916, -1.1846,  0.1877,  1.1153, -0.6476,\n",
       "         0.0448, -0.4741,  0.4166, -1.5208, -0.0779, -0.2276, -0.4149,  0.7858,\n",
       "         1.0090,  0.8358,  0.1742, -0.7842, -0.0117,  1.4755,  0.1195,  0.0318,\n",
       "         0.7897,  0.2237, -0.6638, -0.6256,  0.0619,  0.7602,  0.5940,  0.0337,\n",
       "        -1.0785,  0.3337,  0.3544,  1.1741, -0.6078, -0.9147,  0.5228, -0.0117,\n",
       "        -1.5240, -0.2734, -0.5126,  0.6076, -1.3849, -0.4501, -0.8736,  1.9471,\n",
       "         0.5603,  1.2699, -1.8705,  0.8010,  0.1377, -1.6554,  0.2187,  0.1139,\n",
       "         0.1282,  0.4043, -0.5875,  0.1476, -0.0491,  0.9401, -1.5108, -0.6377,\n",
       "        -0.5647,  1.0183, -0.3836, -1.0143,  0.3740, -0.8967,  0.1636, -0.5421,\n",
       "         0.1026,  2.1196, -1.3440, -0.7648,  0.4589,  0.1542,  1.4052, -0.1171,\n",
       "         0.4438, -2.3189,  0.1563,  0.3372,  0.9842, -0.0280, -1.0000, -0.6485,\n",
       "        -1.4365, -0.7609,  1.1373,  0.2189, -1.0468,  0.3170, -0.6321, -0.5299,\n",
       "         1.8299, -0.7617,  1.6539, -2.0786, -1.4320,  0.3578, -1.2581,  0.7680,\n",
       "        -1.2524, -0.2775,  0.6678, -0.1435, -0.7304, -0.0532, -0.9182,  0.5904,\n",
       "        -1.2616, -0.0096, -1.4961, -0.2469,  3.0590, -0.1960,  0.1736, -0.4195,\n",
       "         0.0111,  0.3840, -0.5774,  0.6464,  0.4547, -0.5688, -0.3029,  0.2856,\n",
       "        -1.1899,  0.2864,  0.1900,  1.8068, -0.8833, -0.7472, -0.4544,  0.0673,\n",
       "        -0.2040,  0.1819, -0.7433,  1.2715, -0.5629, -0.3178,  0.1721, -1.1607,\n",
       "         0.4261,  0.3693,  0.3596,  0.3368,  0.5335, -2.0717, -0.5067,  1.2371,\n",
       "        -0.7150, -0.9167,  0.3548, -1.4175, -0.7283, -1.8780,  1.2085,  0.9321,\n",
       "         0.8700,  0.0743, -0.7708, -0.1972,  0.6684,  2.1794,  1.1715, -1.1551,\n",
       "         0.6079,  0.5853, -1.8448,  0.6979, -0.2793, -1.9600, -0.6992,  2.2830],\n",
       "       grad_fn=<SelectBackward0>)"
      ]
     },
     "execution_count": 51,
     "metadata": {},
     "output_type": "execute_result"
    }
   ],
   "source": [
    "# embedding_vector.shape: [1, 4, 200]\n",
    "embedding_vector[0, 0]  # 0번째 문장의 0번째 (30) embedding vector"
   ]
  },
  {
   "cell_type": "code",
   "execution_count": 52,
   "id": "95e83fff",
   "metadata": {},
   "outputs": [
    {
     "data": {
      "text/plain": [
       "'\\ntensor([-0.4142, -0.2189, -0.9280, -1.4293, -0.7182, -0.2556,  1.4292, -0.4343,\\n         1.0944,  0.6558,  0.3721, -0.5488, -0.8708,  0.4970, -1.3736, -0.5881,\\n         0.7018, -1.8683,  0.9138, -1.0242,  0.7297,  0.5519,  0.0266,  1.1024,\\n'"
      ]
     },
     "execution_count": 52,
     "metadata": {},
     "output_type": "execute_result"
    }
   ],
   "source": [
    "embed.weight[30]\n",
    "'''\n",
    "tensor([-0.4142, -0.2189, -0.9280, -1.4293, -0.7182, -0.2556,  1.4292, -0.4343,\n",
    "         1.0944,  0.6558,  0.3721, -0.5488, -0.8708,  0.4970, -1.3736, -0.5881,\n",
    "         0.7018, -1.8683,  0.9138, -1.0242,  0.7297,  0.5519,  0.0266,  1.1024,\n",
    "'''\n",
    "\n",
    "# embedding_vector[0, 0] == embed.weight[30]"
   ]
  },
  {
   "cell_type": "code",
   "execution_count": 53,
   "id": "422b5808",
   "metadata": {},
   "outputs": [
    {
     "name": "stdout",
     "output_type": "stream",
     "text": [
      "tensor([[-0.4019,  1.0784,  2.2429],\n",
      "        [ 0.9573,  0.6114, -1.0296],\n",
      "        [ 0.6087,  0.6695, -0.1070]], grad_fn=<EmbeddingBackward0>)\n",
      "tensor([-0.4019,  1.0784,  2.2429], grad_fn=<SelectBackward0>)\n",
      "tensor([ 0.9573,  0.6114, -1.0296], grad_fn=<SelectBackward0>)\n",
      "tensor([ 0.6087,  0.6695, -0.1070], grad_fn=<SelectBackward0>)\n"
     ]
    }
   ],
   "source": [
    "import torch\n",
    "import torch.nn as nn\n",
    "\n",
    "# 어휘사전 어휘 수: 10개\n",
    "# 임베딩 벡터 차원 수: 3차원\n",
    "\n",
    "e_layer = nn.Embedding(num_embeddings=10, embedding_dim=3)  # 10 x 3 크기의 임베딩 벡터 생성\n",
    "                                                            # row == token(단어) ID 의미, column == embedding word feature 수\n",
    "\n",
    "sent = \"오늘 날씨 좋다\"  # [\"오늘\":0, \"날씨\":4, \"좋다\":2]\n",
    "# token = tokenizer.encode(sent).ids\n",
    "token = torch.tensor([0, 4, 2], dtype=torch.int64)  # 예시로 단어 ID를 직접 지정\n",
    "embedding_vector = e_layer(token)  # 임베딩 레이어에 토큰 ID를 전달하여 임베딩 벡터를 얻음\n",
    "print(embedding_vector)  # 임베딩 벡터 출력\n",
    "print(e_layer.weight[0])  # \"오늘\" 단어의 임베딩 벡터 출력\n",
    "print(e_layer.weight[4])  # \"날씨\" 단어의 임베딩 벡터 출력\n",
    "print(e_layer.weight[2])  # \"좋다\" 단어의 임베딩 벡터 출력                                              "
   ]
  },
  {
   "cell_type": "markdown",
   "id": "ca59e731-381d-4a79-83c4-1fc20ba006e1",
   "metadata": {},
   "source": [
    "# 네이버 영화 댓글 감성분석(Sentiment Analysis)\n",
    "\n",
    "## 감성분석(Sentiment Analysis) 이란\n",
    "입력된 텍스트가 **긍적적인 글**인지 **부정적인**인지 또는 **중립적인** 글인지 분석하는 것을 감성(감정) 분석이라고 한다.   \n",
    "이를 통해 기업이 고객이 자신들의 기업 또는 제품에 대해 어떤 의견을 가지고 있는지 분석한다."
   ]
  },
  {
   "cell_type": "markdown",
   "id": "e7034ada-08b9-4163-b18d-ce429aef275b",
   "metadata": {},
   "source": [
    "# Dataset, DataLoader 생성\n",
    "\n",
    "## Korpora에서 Naver 영화 댓글 dataset 가져오기\n",
    "- https://ko-nlp.github.io/Korpora/ko-docs/corpuslist/nsmc.html\n",
    "- http://github.com/e9t/nsmc/\n",
    "    - input: 영화댓글\n",
    "    - output: 0(부정적댓글), 1(긍정적댓글)\n",
    "### API\n",
    "- **corpus 가져오기**\n",
    "    - `Korpora.load('nsmc')`\n",
    "- **text/label 조회**\n",
    "    - `corpus.get_all_texts()` : 전체 corpus의 text들을 tuple로 반환\n",
    "    - `corpus.get_all_labels()`: 전체 corpus의 label들을 list로 반환\n",
    "- **train/test set 나눠서 조회**\n",
    "    - `corpus.train`\n",
    "    - `corpus.test`\n",
    "    - `LabeledSentenceKorpusData` 객체에 text와 label들을 담아서 제공.\n",
    "        - `LabeledSentenceKorpusData.texts`: text들 tuple로 반환.\n",
    "        - `LabeledSentenceKorpusData.labels`: label들 list로 반환."
   ]
  },
  {
   "cell_type": "markdown",
   "id": "4d0e2ea3-6123-4ebd-8e98-27b1db6406ed",
   "metadata": {},
   "source": [
    "## 데이터 로딩"
   ]
  },
  {
   "cell_type": "code",
   "execution_count": 54,
   "id": "f530091e",
   "metadata": {},
   "outputs": [
    {
     "name": "stdout",
     "output_type": "stream",
     "text": [
      "\n",
      "    Korpora 는 다른 분들이 연구 목적으로 공유해주신 말뭉치들을\n",
      "    손쉽게 다운로드, 사용할 수 있는 기능만을 제공합니다.\n",
      "\n",
      "    말뭉치들을 공유해 주신 분들에게 감사드리며, 각 말뭉치 별 설명과 라이센스를 공유 드립니다.\n",
      "    해당 말뭉치에 대해 자세히 알고 싶으신 분은 아래의 description 을 참고,\n",
      "    해당 말뭉치를 연구/상용의 목적으로 이용하실 때에는 아래의 라이센스를 참고해 주시기 바랍니다.\n",
      "\n",
      "    # Description\n",
      "    Author : e9t@github\n",
      "    Repository : https://github.com/e9t/nsmc\n",
      "    References : www.lucypark.kr/docs/2015-pyconkr/#39\n",
      "\n",
      "    Naver sentiment movie corpus v1.0\n",
      "    This is a movie review dataset in the Korean language.\n",
      "    Reviews were scraped from Naver Movies.\n",
      "\n",
      "    The dataset construction is based on the method noted in\n",
      "    [Large movie review dataset][^1] from Maas et al., 2011.\n",
      "\n",
      "    [^1]: http://ai.stanford.edu/~amaas/data/sentiment/\n",
      "\n",
      "    # License\n",
      "    CC0 1.0 Universal (CC0 1.0) Public Domain Dedication\n",
      "    Details in https://creativecommons.org/publicdomain/zero/1.0/\n",
      "\n",
      "[Korpora] Corpus `nsmc` is already installed at C:\\Users\\Playdata\\Korpora\\nsmc\\ratings_train.txt\n",
      "[Korpora] Corpus `nsmc` is already installed at C:\\Users\\Playdata\\Korpora\\nsmc\\ratings_test.txt\n"
     ]
    }
   ],
   "source": [
    "import os\n",
    "import time\n",
    "\n",
    "from Korpora import Korpora\n",
    "\n",
    "corpus = Korpora.load('nsmc')"
   ]
  },
  {
   "cell_type": "code",
   "execution_count": 55,
   "id": "aebdb0ac-eaaa-47aa-a0de-11d49e8a427b",
   "metadata": {},
   "outputs": [],
   "source": [
    "# 입력: 영화 댓글\n",
    "# 출력: 댓글의 긍정 or 부정\n",
    "\n",
    "# 모델의 구성 순서\n",
    "# --------------------------------- 데이터 준비\n",
    "# 1) 데이터셋 준비\n",
    "# 2) 데이터의 토큰화 및 단어사전(vocabulary) 구축\n",
    "#   2-1) cleasing - ex) .lower()\n",
    "#   2-2) stop word 처리 (불용어 처리) - ex) 구두점 제거\n",
    "#   2-3) normalize - ex) 원형 복원, 비속어 처리...\n",
    "#   2-4) 위 과정을 거쳐 토큰화 된 문장 성분들을 다시 문장으로 변환. - ex) [\"나는\", \"어제\", \"밥을\", \"먹었다\"] -> \"나는 어제 밥을 먹었다\"\n",
    "#                                                                                                              code: ' '.join(token)\n",
    "#   2-5) subword 단위 처리  - ex) [\"나\", \"는\", \"어제\", \"밥\", \"을\", \"먹\", \"었\", \"다\"]\n",
    "#   2-6) vocabulary 구축 - Tokenizer() 사용\n",
    "#   2-7) vocabulary에 없는 단어 처리 - ex) OOV(Out Of Vocabulary) 처리\n",
    "#\n",
    "# 3) dataset, dataloader 구성\n",
    "#\n",
    "# --------------------------------- 모델 설정\n",
    "# 4) 모델"
   ]
  },
  {
   "cell_type": "code",
   "execution_count": 56,
   "id": "c08b08d5-bfcd-4430-b4c0-44b19bbf4022",
   "metadata": {},
   "outputs": [],
   "source": [
    "all_inputs = corpus.get_all_texts()  # inptus: 댓글들 전체\n",
    "all_labels = corpus.get_all_labels()  # outputs: labels 전체 - 0: 부정, 1: 긍정"
   ]
  },
  {
   "cell_type": "code",
   "execution_count": 57,
   "id": "d9667d7b",
   "metadata": {},
   "outputs": [
    {
     "data": {
      "text/plain": [
       "('아 더빙.. 진짜 짜증나네요 목소리',\n",
       " '흠...포스터보고 초딩영화줄....오버연기조차 가볍지 않구나',\n",
       " '너무재밓었다그래서보는것을추천한다',\n",
       " '교도소 이야기구먼 ..솔직히 재미는 없다..평점 조정',\n",
       " '사이몬페그의 익살스런 연기가 돋보였던 영화!스파이더맨에서 늙어보이기만 했던 커스틴 던스트가 너무나도 이뻐보였다')"
      ]
     },
     "execution_count": 57,
     "metadata": {},
     "output_type": "execute_result"
    }
   ],
   "source": [
    "all_inputs[:5]"
   ]
  },
  {
   "cell_type": "code",
   "execution_count": 58,
   "id": "232a23c0-06c5-49b7-b601-1ede1198b4bf",
   "metadata": {},
   "outputs": [
    {
     "data": {
      "text/plain": [
       "[0, 1, 0, 0, 1]"
      ]
     },
     "execution_count": 58,
     "metadata": {},
     "output_type": "execute_result"
    }
   ],
   "source": [
    "all_labels[:5]"
   ]
  },
  {
   "cell_type": "code",
   "execution_count": 59,
   "id": "9e5ce3a4",
   "metadata": {},
   "outputs": [
    {
     "data": {
      "text/plain": [
       "200000"
      ]
     },
     "execution_count": 59,
     "metadata": {},
     "output_type": "execute_result"
    }
   ],
   "source": [
    "len(all_inputs)"
   ]
  },
  {
   "cell_type": "code",
   "execution_count": 60,
   "id": "709b2fd0",
   "metadata": {},
   "outputs": [
    {
     "data": {
      "text/plain": [
       "NSMC.test: size=50000\n",
       "  - NSMC.test.texts : list[str]\n",
       "  - NSMC.test.labels : list[int]"
      ]
     },
     "execution_count": 60,
     "metadata": {},
     "output_type": "execute_result"
    }
   ],
   "source": [
    "corpus.train  # NSMC.train: size=150000\n",
    "corpus.test  # NSMC.test: size=50000\n",
    "             # - NSMC.test.texts : list[str]\n",
    "             # - NSMC.test.labels : list[int]"
   ]
  },
  {
   "cell_type": "code",
   "execution_count": 61,
   "id": "336071b2",
   "metadata": {},
   "outputs": [
    {
     "data": {
      "text/plain": [
       "('굳 ㅋ',\n",
       " 'GDNTOPCLASSINTHECLUB',\n",
       " '뭐야 이 평점들은.... 나쁘진 않지만 10점 짜리는 더더욱 아니잖아',\n",
       " '지루하지는 않은데 완전 막장임... 돈주고 보기에는....',\n",
       " '3D만 아니었어도 별 다섯 개 줬을텐데.. 왜 3D로 나와서 제 심기를 불편하게 하죠??')"
      ]
     },
     "execution_count": 61,
     "metadata": {},
     "output_type": "execute_result"
    }
   ],
   "source": [
    "corpus.test.texts[:5]"
   ]
  },
  {
   "cell_type": "code",
   "execution_count": null,
   "id": "eca74561",
   "metadata": {},
   "outputs": [],
   "source": []
  },
  {
   "cell_type": "markdown",
   "id": "a2e7e54a-548d-4bf3-81aa-357ab249f41a",
   "metadata": {},
   "source": [
    "## 토큰화\n",
    "1. 형태소 단위 token화(분절)를 먼저 한다.\n",
    "    - konlpy로 token화 한 뒤 다시 한 문장으로 만든다.\n",
    "2. 1에서 처리한 corpus를 BPE 로 token화\n",
    "   \n",
    "### 전처리 함수\n",
    "\n",
    "#### 형태소 단위 분절"
   ]
  },
  {
   "cell_type": "code",
   "execution_count": 62,
   "id": "d0bbb39b-9f49-4d29-a969-4839c01f430e",
   "metadata": {},
   "outputs": [],
   "source": [
    "from konlpy.tag import Okt\n",
    "import string\n",
    "import re\n",
    "\n",
    "# 전처리 >> cleasing / normalize\n",
    "okt = Okt()\n",
    "def text_preprocessing(text):\n",
    "    \"\"\"\n",
    "    1. 영문 -> 소문자로 변환\n",
    "    2. 구두점 제거\n",
    "    3. 형태소 기반 토큰화\n",
    "    4. 형태소로 토큰화 한 뒤 다시 하나의 문자열로 묶어서 반환.\n",
    "    \"\"\"\n",
    "    text = text.lower()\n",
    "\n",
    "    # 구두점 제거 (stop word(불용어))\n",
    "    text = re.sub(f\"[{string.punctuation}]\", \" \", text)\n",
    "\n",
    "    # 정규화\n",
    "    tokens = okt.morphs(text, stem=True)  # stem: 원형 복원\n",
    "                                          # nomr=True >> 비속어 필터링  \n",
    "\n",
    "    return ' '.join(tokens)  # [\"단어\", \"단어\", ...] -> str \"단어 단어 단어\"\n",
    "                             # tokens를 공백으로 구분하여 하나의 문자열로 묶어서 반환 "
   ]
  },
  {
   "cell_type": "code",
   "execution_count": 63,
   "id": "35f45e2f-f76a-4011-b963-d7feb214cc35",
   "metadata": {},
   "outputs": [
    {
     "name": "stdout",
     "output_type": "stream",
     "text": [
      "재미없음 진심 1이훨나 캐스팅두못한듯\n"
     ]
    },
    {
     "data": {
      "text/plain": [
       "'재미없다 진심 1 이훨 나 캐스팅 두 못 한 듯'"
      ]
     },
     "execution_count": 63,
     "metadata": {},
     "output_type": "execute_result"
    }
   ],
   "source": [
    "print(all_inputs[101])  # 출력: 재미없음 진심 1이훨나 캐스팅두못한듯\n",
    "text_preprocessing(all_inputs[101])"
   ]
  },
  {
   "cell_type": "code",
   "execution_count": 64,
   "id": "6e658962-2fd6-4b1d-b4ef-a38de3ecc847",
   "metadata": {},
   "outputs": [
    {
     "name": "stdout",
     "output_type": "stream",
     "text": [
      "전처리 걸린시간(s):  373.9900949001312\n"
     ]
    }
   ],
   "source": [
    "s = time.time()\n",
    "\n",
    "train_texts = corpus.train.texts\n",
    "train_inputs = [text_preprocessing(txt) for txt in train_texts]\n",
    "train_labels = corpus.train.labels\n",
    "\n",
    "test_texts = corpus.test.texts\n",
    "test_inputs = [text_preprocessing(txt) for txt in test_texts]\n",
    "test_labels = corpus.test.labels\n",
    "\n",
    "e = time.time()\n",
    "\n",
    "print('전처리 걸린시간(s): ', e-s)"
   ]
  },
  {
   "cell_type": "code",
   "execution_count": 65,
   "id": "18a25c93-7e26-4512-a0c0-56218fcda100",
   "metadata": {},
   "outputs": [],
   "source": [
    "import pickle\n",
    "import os\n",
    "\n",
    "os.makedirs(\"datasets/nsmc\", exist_ok=True)\n",
    "\n",
    "with open('datasets/nsmc/preProcessing_trainset.pkl', \"wb\") as fw:\n",
    "    pickle.dump({\"input\": train_inputs, \"output\":train_labels}, fw)\n",
    "\n",
    "with open('datasets/nsmc/preprocessing_testset.pkl', \"wb\") as fw:\n",
    "    pickle.dump({\"input\": test_inputs, \"output\": test_labels}, fw)"
   ]
  },
  {
   "cell_type": "code",
   "execution_count": 66,
   "id": "2cae1b53",
   "metadata": {},
   "outputs": [],
   "source": [
    "import pickle\n",
    "import os\n",
    "\n",
    "with open('datasets/nsmc/preProcessing_trainset.pkl', \"rb\") as fr:\n",
    "    train_dict = pickle.load(fr)\n",
    "with open('datasets/nsmc/preprocessing_testset.pkl', \"rb\") as fr:\n",
    "    test_dict = pickle.load(fr)"
   ]
  },
  {
   "cell_type": "code",
   "execution_count": 67,
   "id": "d84bd04c",
   "metadata": {},
   "outputs": [
    {
     "name": "stdout",
     "output_type": "stream",
     "text": [
      "['아 더빙 진짜 짜증나다 목소리', '흠 포스터 보고 초딩 영화 줄 오버 연기 조차 가볍다 않다', '너 무재 밓었 다그 래서 보다 추천 한 다', '교도소 이야기 구먼 솔직하다 재미 는 없다 평점 조정', '사이 몬페 그 의 익살스럽다 연기 가 돋보이다 영화 스파이더맨 에서 늙다 보이다 하다 커스틴 던스트 가 너무나도 이쁘다 보이다']\n",
      "['굳다 ㅋ', 'gdntopclassintheclub', '뭐 야 이 평점 들 은 나쁘다 않다 10 점 짜다 리 는 더 더욱 아니다', '지루하다 않다 완전 막장 임 돈 주다 보기 에는', '3 d 만 아니다 별 다섯 개 주다 왜 3 d 로 나오다 제 심기 를 불편하다 하다']\n"
     ]
    }
   ],
   "source": [
    "train_inputs = train_dict['input']\n",
    "train_labels = train_dict['output']\n",
    "\n",
    "test_inputs = test_dict['input']\n",
    "test_labels = test_dict['output']\n",
    "\n",
    "print(train_inputs[:5])\n",
    "print(test_inputs[:5])"
   ]
  },
  {
   "cell_type": "code",
   "execution_count": 68,
   "id": "07c7cad7-23d9-4212-b07a-0e5da2ff73c7",
   "metadata": {},
   "outputs": [],
   "source": [
    "all_inputs = train_inputs + test_inputs  # vocab 만들 때 사용."
   ]
  },
  {
   "cell_type": "markdown",
   "id": "2e519a68-d3a0-4481-bcf7-b121d8ba813f",
   "metadata": {},
   "source": [
    "### 토큰화\n",
    "- Subword 방식 토큰화 적용\n",
    "- Byte Pair Encoding 방식으로 huggingface tokenizer 사용\n",
    "    - BPE: 토큰을 글자 단위로 나눈뒤 가장 자주 등장하는 글자 쌍(byte paire)를 찾아 합친뒤 어휘사전에 추가한다.\n",
    "    - https://huggingface.co/docs/tokenizers/quicktour\n",
    "    - `pip install tokenizers`"
   ]
  },
  {
   "cell_type": "code",
   "execution_count": 69,
   "id": "0f162bdf-fac9-4468-a264-c656e4b3164d",
   "metadata": {},
   "outputs": [],
   "source": [
    "from tokenizers import Tokenizer\n",
    "from tokenizers.models import BPE  # , Unigram, WordPiece\n",
    "from tokenizers.pre_tokenizers import Whitespace\n",
    "from tokenizers.trainers import BpeTrainer\n",
    "\n",
    "vocab_size = 30_000  # 어휘 사전의 최대 단어 수\n",
    "min_frequency = 5  # 사전에 추가할 최소 빈도 수 (최소 5번은 나와야 사전에 추가)\n",
    "\n",
    "tokenizer = Tokenizer(BPE(unk_token=\"[UNK]\"))\n",
    "tokenizer.pre_tokenizer = Whitespace()  # 공백 기준으로 토큰화\n",
    "\n",
    "trainer = BpeTrainer(\n",
    "    vocab_size=vocab_size,\n",
    "    min_frequency=min_frequency,\n",
    "    special_tokens=[\"[PAD]\", \"[UNK]\"],\n",
    "    continuing_subword_prefix=\"##\"  # 단어의 중간에 나오는 subword일 경우 앞에 ##을 붙인다.\n",
    "                                    # ex) \"시작하는\" -> \"시작\", \"##하는\"\n",
    ")\n",
    "\n",
    "tokenizer.train_from_iterator(all_inputs, trainer=trainer)  # vocab 생성 == tokenizer 학습"
   ]
  },
  {
   "cell_type": "code",
   "execution_count": 70,
   "id": "de9b29e1-384a-44e8-ab19-e53f0c1303c7",
   "metadata": {},
   "outputs": [
    {
     "data": {
      "text/plain": [
       "26739"
      ]
     },
     "execution_count": 70,
     "metadata": {},
     "output_type": "execute_result"
    }
   ],
   "source": [
    "# 총 vocab_size:\n",
    "tokenizer.get_vocab_size()  #"
   ]
  },
  {
   "cell_type": "code",
   "execution_count": 71,
   "id": "e998d38b-e762-4fd5-b37f-8f8a2b6f5849",
   "metadata": {},
   "outputs": [],
   "source": [
    "os.makedirs('saved_models/nsmc', exist_ok=True)\n",
    "tokenizer.save(\"saved_models/nsmc/tokenizer_bpe.json\")\n",
    "\n",
    "# load_tokenizer = Tokenizer.from_file(\"saved_models/nsmc/tokenizer_bpe.json\")"
   ]
  },
  {
   "cell_type": "code",
   "execution_count": 72,
   "id": "d9781815",
   "metadata": {},
   "outputs": [
    {
     "name": "stdout",
     "output_type": "stream",
     "text": [
      "내 인생 에서 극 장가 서 보다 영화 중 최악 의 영화\n",
      "[820, 5568, 5430, 652, 7435, 1741, 5410, 5408, 2343, 5514, 2203, 5408]\n",
      "['내', '인생', '에서', '극', '장가', '서', '보다', '영화', '중', '최악', '의', '영화']\n"
     ]
    }
   ],
   "source": [
    "idx = 1557\n",
    "print(all_inputs[idx])\n",
    "tokens = tokenizer.encode(all_inputs[idx])\n",
    "print(tokens.ids)\n",
    "print(tokens.tokens)"
   ]
  },
  {
   "cell_type": "code",
   "execution_count": 73,
   "id": "d78ce2d6",
   "metadata": {},
   "outputs": [
    {
     "data": {
      "text/plain": [
       "'내 인생 에서 극 장가 서 보다 영화 중 최악 의 영화'"
      ]
     },
     "execution_count": 73,
     "metadata": {},
     "output_type": "execute_result"
    }
   ],
   "source": [
    "tokenizer.decode(tokens.ids)"
   ]
  },
  {
   "cell_type": "markdown",
   "id": "09f5c31d-633c-4a31-8f66-dff2ecf8e86a",
   "metadata": {},
   "source": [
    "## Dataset, DataLoader 생성"
   ]
  },
  {
   "cell_type": "code",
   "execution_count": 74,
   "id": "8c1ec9c5",
   "metadata": {},
   "outputs": [
    {
     "data": {
      "text/plain": [
       "([1986, 5881, 5426, 5667, 6087], 0)"
      ]
     },
     "execution_count": 74,
     "metadata": {},
     "output_type": "execute_result"
    }
   ],
   "source": [
    "# dataset[0]\n",
    "tokenizer.encode(train_inputs[0]).ids, train_labels[0]"
   ]
  },
  {
   "cell_type": "code",
   "execution_count": 75,
   "id": "e1c91641",
   "metadata": {},
   "outputs": [],
   "source": [
    "# Pytorch 사용자 정의 Dataset(Custom Dataset) 정의\n",
    "# 1. Dataset 상속\n",
    "# 2. __len__(self): 총 데이터 개수 반환\n",
    "# 3. __getitem__(self, index): index의 x, y 반환. subscriptable 타입으로 구현"
   ]
  },
  {
   "cell_type": "code",
   "execution_count": null,
   "id": "ff27280e-dfb7-4947-9192-777e6984286f",
   "metadata": {},
   "outputs": [],
   "source": [
    "import torch\n",
    "from torch.utils.data import Dataset, DataLoader\n",
    "\n",
    "class NSMCDataset(Dataset):\n",
    "    def __init__(self, texts, labels, max_length, tokenizer):\n",
    "        \"\"\"\n",
    "        texts: list - 댓글 목록. 리스트에 댓글들을 담아서 받는다. [\"댓글\", \"댓글\", ...]\n",
    "        labels: list - 댓글 label(감정) 목록. \n",
    "        max_length: 개별 댓글의 최대 token 개수. 모든 댓글의 토큰수를 max_length에 맞춘다.\n",
    "        tokenizer: Tokenizer\n",
    "        \"\"\"\n",
    "        self.max_length = max_length\n",
    "        self.tokenizer = tokenizer\n",
    "\n",
    "        # self.texts: 입력 댓글 - padding이 추가된 token ID로 변환된 댓글(문서). 글자 수는 max_length에 맞춤.\n",
    "        #                         max_length보다 적으면 [PAD] 추가, max_length보다 많으면 잘라냄.\n",
    "        self.texts = [self.__pad_token_sequences(tokenizer.encode(txt).ids) for txt in texts]\n",
    "        self.labels = labels\n",
    "\n",
    "    ###########################################################################################\n",
    "    # id로 구성된 개별 문장 token list를 받아서 패딩 추가 [20, 2, 1] => [20, 2, 1, 0, 0, 0, ..]\n",
    "    # 토큰 리스트의 개수를 max_length에 맞추는 메소드\n",
    "    ############################################################################################\n",
    "    def __pad_token_sequences(self, token_sequences):  # __method name --> class 내부에서만 사용.\n",
    "        \"\"\"\n",
    "        id로 구성된 개별 문서(댓글)의 token_id list를 받아서 max_length 길이에 맞추는 메소드\n",
    "        max_length 보다 토큰수가 적으면 [PAD] 추가, 많으면 max_length 크기로 줄인다.\n",
    "            ex) max_length = 5  [PAD] token id = 0\n",
    "            [20, 2, 1] => [20, 2, 1, 0, 0]\n",
    "            [20, 30, 40, 50, 60, 70, 80] => [20, 30, 40, 50, 60]\n",
    "        \"\"\"\n",
    "        pad_token_id = self.tokenizer.token_to_id(\"[PAD]\")\n",
    "        seq_len = len(token_sequences)  # 입력받은 토큰 개수\n",
    "\n",
    "        if seq_len > self.max_length:  # token 잘라내기\n",
    "            result = token_sequences[:self.max_length]\n",
    "        else:\n",
    "            result = token_sequences + ([pad_token_id] * (self.max_length - seq_len))  # [PAD]를 최대 토큰 수 - 시퀀스 길이 만큼 반복해서 추가\n",
    "\n",
    "        return result\n",
    "        \n",
    "    def __len__(self):\n",
    "        return len(self.texts)  # 총 데이터 개수를 반환\n",
    "\n",
    "    def __getitem__(self, idx):\n",
    "        \"\"\"\n",
    "        idx 번째 text와 label을 학습 가능한 type으로 변환해서 반환\n",
    "        Parameter\n",
    "            idx: int 조회할 index\n",
    "        Return\n",
    "            tuple: (torch.LongTensor, torch.FloatTensor) - 댓글 토큰_id 리스트, 정답 Label\n",
    "        \"\"\"\n",
    "        txt = self.texts[idx]\n",
    "        label = self.labels[idx]\n",
    "\n",
    "        return (torch.tensor(txt, dtype=torch.int64), torch.tensor([label], dtype=torch.float32))   # [label] 형태로 반환하여 batch에 맞게 처리할 수 있도록 함.\n",
    "#                                                                                                   # tensor에 대한 이해가 필요....\n",
    "    "
   ]
  },
  {
   "cell_type": "code",
   "execution_count": 77,
   "id": "9515bb6f-703d-4277-b645-8869267f5297",
   "metadata": {},
   "outputs": [],
   "source": [
    "# max_length를 어떻게 설정할거야!?\n",
    "\n",
    "# 모든 댓글의 token 수 조회\n",
    "all_input_length = [len(tokenizer.encode(txt)) for txt in all_inputs]"
   ]
  },
  {
   "cell_type": "code",
   "execution_count": 78,
   "id": "161f63e1-4ba8-4ccc-8c62-422b1f30b431",
   "metadata": {},
   "outputs": [
    {
     "data": {
      "text/plain": [
       "array([29., 41.])"
      ]
     },
     "execution_count": 78,
     "metadata": {},
     "output_type": "execute_result"
    }
   ],
   "source": [
    "import numpy as np\n",
    "\n",
    "np.min(all_input_length), np.max(all_input_length)\n",
    "np.quantile(all_input_length, q=[0.9, 0.95])  # 분위수 출력\n",
    "                                              # 90%: 30, 95%: 40\n",
    "                                              # >> 토큰 수 기준 29개 미만은 90%, 41개 미만은 95%이다."
   ]
  },
  {
   "cell_type": "code",
   "execution_count": 79,
   "id": "ee963d58-0008-4fa6-b426-e3e332591f50",
   "metadata": {},
   "outputs": [],
   "source": [
    "MAX_LENGTH = 30\n",
    "trainset = NSMCDataset(train_inputs, train_labels, MAX_LENGTH, tokenizer)\n",
    "testset = NSMCDataset(test_inputs, test_labels, MAX_LENGTH, tokenizer)"
   ]
  },
  {
   "cell_type": "code",
   "execution_count": 80,
   "id": "eea5f00e-70fa-475b-8e2d-d06d120e3bdf",
   "metadata": {},
   "outputs": [
    {
     "data": {
      "text/plain": [
       "(150000, 50000)"
      ]
     },
     "execution_count": 80,
     "metadata": {},
     "output_type": "execute_result"
    }
   ],
   "source": [
    "len(trainset), len(testset)"
   ]
  },
  {
   "cell_type": "code",
   "execution_count": 81,
   "id": "b03b0ad6",
   "metadata": {},
   "outputs": [
    {
     "data": {
      "text/plain": [
       "(tensor([1986, 5881, 5426, 5667, 6087,    0,    0,    0,    0,    0,    0,    0,\n",
       "            0,    0,    0,    0,    0,    0,    0,    0,    0,    0,    0,    0,\n",
       "            0,    0,    0,    0,    0,    0]),\n",
       " tensor([0.]))"
      ]
     },
     "execution_count": 81,
     "metadata": {},
     "output_type": "execute_result"
    }
   ],
   "source": [
    "trainset[0]"
   ]
  },
  {
   "cell_type": "code",
   "execution_count": 82,
   "id": "354e9073",
   "metadata": {},
   "outputs": [],
   "source": [
    "BATCH_SIZE = 64\n",
    "train_loader = DataLoader(trainset, batch_size=BATCH_SIZE, shuffle=True, drop_last=True)\n",
    "test_loader = DataLoader(testset, batch_size=BATCH_SIZE)"
   ]
  },
  {
   "cell_type": "code",
   "execution_count": 83,
   "id": "5b56f4b3",
   "metadata": {},
   "outputs": [
    {
     "data": {
      "text/plain": [
       "(2343, 782)"
      ]
     },
     "execution_count": 83,
     "metadata": {},
     "output_type": "execute_result"
    }
   ],
   "source": [
    "len(train_loader), len(test_loader)"
   ]
  },
  {
   "cell_type": "markdown",
   "id": "42b5f038-b32c-4e4e-82c8-956c7cbe0c4d",
   "metadata": {},
   "source": [
    "# 모델링\n",
    "- Embedding Layer를 이용해 Word Embedding Vector를 추출한다.\n",
    "- LSTM을 이용해 Feature 추출\n",
    "- Linear + Sigmoid로 댓글 긍정일 확률 출력\n",
    "  \n",
    "![outline](figures/rnn/RNN_outline.png)\n",
    "\n",
    "## 모델 정의"
   ]
  },
  {
   "cell_type": "code",
   "execution_count": 84,
   "id": "ac88afd6-5c8f-4ade-b930-86c9425e86e9",
   "metadata": {},
   "outputs": [
    {
     "name": "stdout",
     "output_type": "stream",
     "text": [
      "cpu\n"
     ]
    }
   ],
   "source": [
    "import numpy as np\n",
    "\n",
    "device = \"cuda\" if torch.cuda.is_available() else \"cpu\"\n",
    "print(device)"
   ]
  },
  {
   "cell_type": "code",
   "execution_count": 85,
   "id": "4e9cbbd8-d8b4-4a51-ac7a-5765722f139e",
   "metadata": {},
   "outputs": [],
   "source": [
    "class NSMCClassifier(nn.Module):\n",
    "\n",
    "    def __init__(self, vocab_size, embedding_dim, hidden_size, num_layers, bidirectional=True, dropout_rate=0.2):  # layer 구성성\n",
    "        '''\n",
    "        Args:\n",
    "            vocab_size: int - 어휘 사전의 단어 수\n",
    "            embedding_dim: int - 임베딩 벡터의 차원 수\n",
    "            hidden_size: int - LSTM 의 은닉층 크기 >> LSTM 의 출력 feature 수\n",
    "            num_layers: int - LSTM 레이어 수\n",
    "            bidirectional: bool - 양방향 LSTM 여부\n",
    "            dropout_rate: float - LSTM이 두 개 이상의 layer로 구셩된 경우 적용할 dropout layer의 드롭아웃 비율\n",
    "        '''\n",
    "        super().__init__()\n",
    "        # 모델을 구성할 Layer들을 정의 - Embeddint layer, LSTM layer, Dropout layer, Linear(fully connected) layer, Sigmoid layer\n",
    "        self.embedding = nn.Embedding(\n",
    "            num_embeddings=vocab_size,  # vocab size\n",
    "            embedding_dim=embedding_dim,  # embedding vector 차원 수\n",
    "            padding_idx=0  # [PAD] token ID를 padding으로 사용. tokenizer.token_to_id(\"[PAD]\")\n",
    "                           # padding token은 학습하지 않는다.\n",
    "        )\n",
    "        # embedding layer의 출력 shape: [batch_size, seq_len, embedding_dim]\n",
    "        #                               * batch_size: Dataloader에서 설정한 배치 크기 (LSTM의 입력 크기)\n",
    "        #                               * seq_len: max_length (LSTM의 time_step 수 == 문서 토큰 수)\n",
    "        #                               * embedding_dim: embedding vector 차원 수 (LSTM의 입력 feature 수)\n",
    "\n",
    "        self.lstm = nn.LSTM(\n",
    "            input_size=embedding_dim,  # LSTM의 입력 feature 수 == embedding vector 차원 수\n",
    "            hidden_size=hidden_size,  # LSTM의 은닉층 크기\n",
    "            num_layers=num_layers,  # LSTM 레이어 수\n",
    "            bidirectional=bidirectional,  # 양방향 LSTM 여부 생성 모델이 아니라면 bidirectional=True로 설정\n",
    "            dropout=dropout_rate if num_layers > 1 else 0.0,  # num_layers가 1보다 크면 dropout 적용\n",
    "        )\n",
    "\n",
    "        self.dropout = nn.Dropout(dropout_rate)  # LSTM과 Linear layer 사이에 과적합 방지를 위한 dropout layer 추가\n",
    "\n",
    "        # LSTM의 출력 feature 수: hidden_size * 2 if bidirectional else hidden_size\n",
    "        # LSTM의 출력: out, (hidden, cell)\n",
    "        #              out: 모든 time step의 출력값.                shape: [batch_size, seq_len, hidden_size * 2 if bidirectional else hidden_size]\n",
    "        #              hidden: 마지막 time step의 hidden state.     shape: [num_layers * bidirections, batch_size, hidden_size]\n",
    "        #              cell: 마지막 time step의 cell state.         shape: [num_layers * bidirections, batch_size, hidden_size]\n",
    "\n",
    "        input_features = hidden_size*2 if bidirectional else hidden_size  # LSTM의 출력 feature 수\n",
    "                                                                          # bidirectional=True인 경우 정방향 / 역방향의 출력을 붙여서 사용하기 때문에 hidden_size * 2\n",
    "        self.classifier = nn.Linear(input_features, 1)  # 출력 1: 이진분류 -> positive의 확률\n",
    "\n",
    "        self.sigmoid = nn.Sigmoid()  # classifier의 출력값을 확률(0 ~ 1)로 변환하기 위한 Sigmoid layer\n",
    "\n",
    "\n",
    "    def forward(self, X):  # layer 연산\n",
    "        ''' \n",
    "        Args:\n",
    "            X: torch.Tensor - 입력 데이터. shape: [batch_size, seq_len(max_length)]            \n",
    "        '''\n",
    "\n",
    "        embedding_vectors = self.embedding(X)  # embedding layer에 입력 데이터를 전달하여 embedding vector를 얻음.\n",
    "        # embedding_vectors shape: [batch_size, seq_len, embedding_dim]\n",
    "        # embedding_vectors: [64, 30, 100]  # batch_size=64, seq_len=30, embedding_dim=100\n",
    "\n",
    "        # LSTM - batch_first=False: [seq_len, batch_size, input_size] / batch_first=True: [batch_size, seq_len, input_size]\n",
    "        # batch_first=False라면 transpose 필요 - embedding_vectors = embedding_vectors.transpose(0, 1) -> 0번째와 1번째 차원 교환\n",
    "        embedding_vectors = embedding_vectors.transpose(1, 0)\n",
    "        out, _ = self.lstm(embedding_vectors)\n",
    "        # out.shape: [seq_len, batch_size, hidden_size * 2 if bidirectional else hidden_size]\n",
    "        # classifier(linear layer)에는 out의 마지막 index(마지막 seq) 값을 입력\n",
    "\n",
    "        output = self.dropout(out[-1])  # dropout layer 적용\n",
    "\n",
    "        output  = self.classifier(output)  # Linear layer를 통해 출력값을 계산\n",
    "        \n",
    "        last_output = self.sigmoid(output)  # Sigmoid layer를 통해 확률로 변환\n",
    "\n",
    "        return last_output "
   ]
  },
  {
   "cell_type": "markdown",
   "id": "af1a0171-371e-4cb5-9bd5-ad1e3c14480d",
   "metadata": {},
   "source": [
    "## 모델 생성"
   ]
  },
  {
   "cell_type": "code",
   "execution_count": 86,
   "id": "7830d2b5-d5ed-4b53-a442-bebc83077aec",
   "metadata": {},
   "outputs": [
    {
     "name": "stdout",
     "output_type": "stream",
     "text": [
      "NSMCClassifier(\n",
      "  (embedding): Embedding(26739, 100, padding_idx=0)\n",
      "  (lstm): LSTM(100, 64, num_layers=2, dropout=0.3, bidirectional=True)\n",
      "  (dropout): Dropout(p=0.3, inplace=False)\n",
      "  (classifier): Linear(in_features=128, out_features=1, bias=True)\n",
      "  (sigmoid): Sigmoid()\n",
      ")\n"
     ]
    }
   ],
   "source": [
    "VOCAB_SIZE = tokenizer.get_vocab_size()  # vocab size\n",
    "EMBEDDING_DIM = 100  # embedding vector 차원 수\n",
    "HIDDEN_SIZE = 64  # LSTM의 은닉층 크기\n",
    "NUM_LAYERS = 2  # LSTM 레이어 수\n",
    "BIDIRECTIONAL = True  # 양방향 LSTM 여부\n",
    "DROPOUT_RATE = 0.3  # dropout 비율\n",
    "\n",
    "# 모델의 복잡도를 올린다 => EMBEDDING_DIM, HIDDEN_SIZE, NUM_LAYERS를 크게 설정. -> 너무 크면 overfitting 발생 가능성 있음.\n",
    "# Auto regressive 모델이 아니라면 bidirectional=True로 설정\n",
    "\n",
    "model = NSMCClassifier(\n",
    "    vocab_size=VOCAB_SIZE,\n",
    "    embedding_dim=EMBEDDING_DIM,\n",
    "    hidden_size=HIDDEN_SIZE,\n",
    "    num_layers=NUM_LAYERS,\n",
    "    bidirectional=BIDIRECTIONAL,\n",
    "    dropout_rate=DROPOUT_RATE\n",
    ")\n",
    "\n",
    "model.to(device)\n",
    "\n",
    "print(model)"
   ]
  },
  {
   "cell_type": "code",
   "execution_count": 87,
   "id": "ae04a25a-c6dc-4833-883b-54972a16c171",
   "metadata": {},
   "outputs": [
    {
     "data": {
      "text/plain": [
       "==========================================================================================\n",
       "Layer (type:depth-idx)                   Output Shape              Param #\n",
       "==========================================================================================\n",
       "NSMCClassifier                           [64, 1]                   --\n",
       "├─Embedding: 1-1                         [64, 30, 100]             2,673,900\n",
       "├─LSTM: 1-2                              [30, 64, 128]             184,320\n",
       "├─Dropout: 1-3                           [64, 128]                 --\n",
       "├─Linear: 1-4                            [64, 1]                   129\n",
       "├─Sigmoid: 1-5                           [64, 1]                   --\n",
       "==========================================================================================\n",
       "Total params: 2,858,349\n",
       "Trainable params: 2,858,349\n",
       "Non-trainable params: 0\n",
       "Total mult-adds (Units.MEGABYTES): 525.03\n",
       "==========================================================================================\n",
       "Input size (MB): 0.02\n",
       "Forward/backward pass size (MB): 3.50\n",
       "Params size (MB): 11.43\n",
       "Estimated Total Size (MB): 14.95\n",
       "=========================================================================================="
      ]
     },
     "execution_count": 87,
     "metadata": {},
     "output_type": "execute_result"
    }
   ],
   "source": [
    "from torchinfo import summary\n",
    "\n",
    "# summary\n",
    "i = torch.randint(1, 10, (BATCH_SIZE, MAX_LENGTH), dtype=torch.int64)  # batch_size=64, seq_len=30\n",
    "summary(model, input_data=i, device=device)\n",
    "# summary(모델, input_shape=(batch_size, seq_len(max_length)), device=device) => 내부적으로 입력데이터를 생성하여 모델에 전달하고 출력값을 확인"
   ]
  },
  {
   "cell_type": "code",
   "execution_count": null,
   "id": "edbe5b3d-8b2f-4164-9b97-29e6aadced5e",
   "metadata": {},
   "outputs": [],
   "source": []
  },
  {
   "cell_type": "code",
   "execution_count": null,
   "id": "0a8d229e-9a99-4a28-9dfd-9582686ba052",
   "metadata": {},
   "outputs": [],
   "source": []
  },
  {
   "cell_type": "markdown",
   "id": "4bdd5885-8150-4529-ad3a-84931a8824c5",
   "metadata": {},
   "source": [
    "## 학습"
   ]
  },
  {
   "cell_type": "markdown",
   "id": "a48a1bf6-d8eb-42d0-996e-f975e93888af",
   "metadata": {},
   "source": [
    "### Train/Test 함수 정의"
   ]
  },
  {
   "cell_type": "code",
   "execution_count": 88,
   "id": "46099bec-eee3-4cef-921b-ce9ee6cf0f0d",
   "metadata": {},
   "outputs": [],
   "source": [
    "# 1 epoch train하는 함수.\n",
    "def train(model, dataloader, loss_fn, optimizer, device=\"cpu\"):\n",
    "\n",
    "    model.train()  # 모델을 학습 모드로 전환\n",
    "\n",
    "    model = model.to(device)  # 모델을 device로 이동\n",
    "    total_loss = 0.0  # 총 손실값 초기화\n",
    "\n",
    "    # step 단위로 모델 학습 (batch_size 만큼의 데이터로 학습)\n",
    "    for X, y in dataloader:\n",
    "\n",
    "        # 1. 입력 데이터 X, 정답 레이블 y를 device로 이동\n",
    "        X, y = X.to(device), y.to(device)\n",
    "\n",
    "        # 2. 추론\n",
    "        pred = model(X)  # 모델에 입력 데이터를 전달하여 예측값을 얻음\n",
    "\n",
    "        # 3. 손실값(loss) 계산\n",
    "        loss = loss_fn(pred, y)\n",
    "\n",
    "\n",
    "        # 4. gradient 계산\n",
    "        loss.backward()  # 손실값에 대한 gradient 계산\n",
    "\n",
    "        # 5. 파라미터(가중치) 업데이트, w.data - w.grad * lr\n",
    "        optimizer.step()\n",
    "\n",
    "        # 6. gradient 초기화\n",
    "        optimizer.zero_grad()\n",
    "\n",
    "        # 7. 총 손실값 업데이트\n",
    "        total_loss += loss.item()  # 손실값을 누적    \n",
    "\n",
    "    return total_loss / len(dataloader)  # 평균 손실값 계산\n"
   ]
  },
  {
   "cell_type": "code",
   "execution_count": 89,
   "id": "4c5eb3ea-78e8-4248-a8ce-d07a4c362d1a",
   "metadata": {},
   "outputs": [],
   "source": [
    "# 1 epoch 평가 함수\n",
    "def evaluate(model, dataloader, loss_fn, device=\"cpu\"):\n",
    "    # 모델을 평가 모드로 전환\n",
    "    model.eval()\n",
    "\n",
    "    # device로 모델 이동\n",
    "    model = model.to(device)\n",
    "    total_loss = 0.0  # 총 손실값 초기화\n",
    "    total_accuracy = 0.0  # 정확도 초기화\n",
    "\n",
    "    with torch.no_grad():  # 평가 시 gradient 계산을 하지 않음\n",
    "        for X, y in dataloader:\n",
    "            # 1. 입력 데이터 X, 정답 레이블 y를 device로 이동\n",
    "            X, y = X.to(device), y.to(device)\n",
    "            y = y  # y의 shape를 [batch_size, 1]로 변경\n",
    "\n",
    "            # 2. 추론\n",
    "            pred_proba = model(X)  # positive일 확률\n",
    "            # pred_label = 1 if pred_proba >= 0.5 else 0  # 확률이 0.5 이상이면 positive(1), 아니면 negative(0)\n",
    "            pred_label = (pred_proba >= 0.5).type(torch.int32)  # 확률이 0.5 이상이면 positive(1), 아니면 negative(0)\n",
    "\n",
    "            # 3. 손실값(loss) 및 정확도 계산\n",
    "            total_loss += loss_fn(pred_proba, y).item()\n",
    "            total_accuracy += (pred_label == y).sum().item()\n",
    "\n",
    "        avg_loss = total_loss / len(dataloader)  # 평균 손실값 계산\n",
    "        avg_accuracy = total_accuracy / len(dataloader.dataset)  # 전체 데이터셋에 대한 정확도 계산\n",
    "\n",
    "        return avg_loss, avg_accuracy  # 평균 손실값과 정확도 반환"
   ]
  },
  {
   "cell_type": "code",
   "execution_count": null,
   "id": "8de42da4-8991-4bcb-9ce9-18155459dec2",
   "metadata": {},
   "outputs": [],
   "source": []
  },
  {
   "cell_type": "markdown",
   "id": "4c8853d0-b137-47bb-8f0d-fc4f05700cf2",
   "metadata": {},
   "source": [
    "### Train"
   ]
  },
  {
   "cell_type": "code",
   "execution_count": 90,
   "id": "cd806dda-5058-4c44-a3f4-28cadc8a90d0",
   "metadata": {},
   "outputs": [],
   "source": [
    "LR = 1e-3  # learning rate\n",
    "EPOCHS = 3  # 학습 epoch 수\n",
    "loss_fn = nn.BCELoss()  # 이진 분류 손실 함수\n",
    "optimizer = torch.optim.Adam(model.parameters(), lr=LR)  # Adam optimizer"
   ]
  },
  {
   "cell_type": "code",
   "execution_count": 91,
   "id": "816e18c2-17bf-4621-b630-b47e16c34bf4",
   "metadata": {},
   "outputs": [
    {
     "name": "stdout",
     "output_type": "stream",
     "text": [
      "Epoch 1/3, Train Loss: 0.4583, Val Loss: 0.3765, Val Accuracy: 0.8306\n",
      "Epoch 2/3, Train Loss: 0.3314, Val Loss: 0.3575, Val Accuracy: 0.8421\n",
      "Epoch 3/3, Train Loss: 0.2839, Val Loss: 0.3577, Val Accuracy: 0.8504\n",
      "학습 시간(초):  1453.1993300914764\n"
     ]
    }
   ],
   "source": [
    "import time\n",
    "\n",
    "start_time = time.time()  # 학습 시작 시간\n",
    "\n",
    "train_loss_list = []  # 학습 손실값을 저장할 리스트\n",
    "val_loss_list = []  # 검증 손실값을 저장할 리스트\n",
    "val_acc_list = []  # 검증 정확도를 저장할 리스트\n",
    "\n",
    "# 학습 및 검증 반복\n",
    "for epoch in range(EPOCHS):\n",
    "    train_loss = train(model, train_loader, loss_fn, optimizer, device)\n",
    "    val_loss, val_accuracy = evaluate(model, test_loader, loss_fn, device)\n",
    "    \n",
    "    train_loss_list.append(train_loss)  # 학습 손실값 저장\n",
    "    val_loss_list.append(val_loss)  # 검증 손실값 저장\n",
    "    val_acc_list.append(val_accuracy)  # 검증 정확도 저장\n",
    "\n",
    "    print(f\"Epoch {epoch+1}/{EPOCHS}, Train Loss: {train_loss:.4f}, Val Loss: {val_loss:.4f}, Val Accuracy: {val_accuracy:.4f}\")\n",
    "\n",
    "end_time = time.time()  # 학습 종료 시간\n",
    "\n",
    "print(\"학습 시간(초): \", end_time - start_time)"
   ]
  },
  {
   "cell_type": "code",
   "execution_count": null,
   "id": "e2b6ec21-1d3c-48c2-b7c3-314daea6576c",
   "metadata": {},
   "outputs": [],
   "source": []
  },
  {
   "cell_type": "markdown",
   "id": "32690441-482a-46b1-b91b-b85329d2141f",
   "metadata": {},
   "source": [
    "## 모델저장"
   ]
  },
  {
   "cell_type": "code",
   "execution_count": 92,
   "id": "80c16618-1517-4371-8e37-ae3cf03428b0",
   "metadata": {},
   "outputs": [],
   "source": [
    "torch.save(model, \"saved_models/nsmc/model.pt\")  # 모델 저장"
   ]
  },
  {
   "cell_type": "code",
   "execution_count": 93,
   "id": "2e2d41e8-0715-4f50-aa37-11a8e142706a",
   "metadata": {},
   "outputs": [],
   "source": [
    "load_model = torch.load(\"saved_models/nsmc/model.pt\", weights_only=False)  # 모델 불러오기)"
   ]
  },
  {
   "cell_type": "markdown",
   "id": "a3de7ed5-f7f6-4206-b16f-f8535a03405c",
   "metadata": {},
   "source": [
    "# 서비스"
   ]
  },
  {
   "cell_type": "markdown",
   "id": "827bdaa3-008d-4a93-aee6-0877e829ef32",
   "metadata": {},
   "source": [
    "## 전처리 함수들"
   ]
  },
  {
   "cell_type": "code",
   "execution_count": 94,
   "id": "1a2661a9-3964-4117-b273-e5d8bd4194b3",
   "metadata": {},
   "outputs": [],
   "source": [
    "from konlpy.tag import Okt\n",
    "import re\n",
    "import string\n",
    "\n",
    "morph_tokenizer = Okt()  # 형태소 기반 토큰화\n",
    "def text_preprocessing(text):\n",
    "    \n",
    "    text = text.lower()\n",
    "    text = re.sub(f\"[{string.punctuation}]+\", ' ', text)\n",
    "    return ' '.join(morph_tokenizer.morphs(text, stem=True))"
   ]
  },
  {
   "cell_type": "code",
   "execution_count": 95,
   "id": "315603df-159b-4317-9fb4-7897546b7cf7",
   "metadata": {},
   "outputs": [],
   "source": [
    "def pad_token_sequences(token_sequences, max_length):\n",
    "    \"\"\"padding 처리 메소드.\"\"\"\n",
    "    pad_token = tokenizer.token_to_id('[PAD]')  \n",
    "    seq_length = len(token_sequences)           \n",
    "    result = None\n",
    "    if seq_length > max_length:                 \n",
    "        result = token_sequences[:max_length]\n",
    "    else:                                            \n",
    "        result = token_sequences + ([pad_token] * (max_length - seq_length))\n",
    "    return result"
   ]
  },
  {
   "cell_type": "code",
   "execution_count": 96,
   "id": "8d73070a-0ee5-4f35-996c-b0d11ba08516",
   "metadata": {},
   "outputs": [],
   "source": [
    "def predict_data_preprocessing(text_list):\n",
    "    \"\"\"\n",
    "    모델에 입력할 수있는 input data를 생성\n",
    "    Parameter:\n",
    "        text_list: list - 추론할 댓글리스트\n",
    "    Return\n",
    "        torch.LongTensor - 댓글 token_id tensor\n",
    "    \"\"\"\n",
    "   \n",
    "    #cleansing & normalize\n",
    "    text_list = [text_preprocessing(txt) for txt in text_list]  # 댓글 전처리\n",
    "    token_list = [tokenizer.encode(txt).ids for txt in text_list]  # 토큰화\n",
    "    # tokenization\n",
    "    token_list = [pad_token_sequences(token, MAX_LENGTH) for token in token_list]\n",
    "\n",
    "    return torch.tensor(token_list, dtype=torch.int64)"
   ]
  },
  {
   "cell_type": "markdown",
   "id": "a1e19997-6b61-446f-ac72-376cd34ee495",
   "metadata": {},
   "source": [
    "## 추론"
   ]
  },
  {
   "cell_type": "code",
   "execution_count": 97,
   "id": "a6fb00ab-60d0-45f2-bb16-505a5f5cc056",
   "metadata": {},
   "outputs": [],
   "source": [
    "comment_list = [\"아 진짜 재미없다.\", \"여기 식당 먹을만 해요\", \"이걸 영화라고 만들었냐?\", \"기대 안하고 봐서 그런지 괜찮은데.\", \"이걸 영화라고 만들었나?\", \"아! 뭐야 진짜.\", \"재미있는데.\", \"연기 짱 좋아. 한번 더 볼 의향도 있다.\", \"뭐 그럭저럭\"]\n",
    "\n",
    "input_tensor = predict_data_preprocessing(comment_list)\n"
   ]
  },
  {
   "cell_type": "code",
   "execution_count": 98,
   "id": "499c330d-69ff-43fb-9ee9-ad1c6054f9a3",
   "metadata": {},
   "outputs": [],
   "source": [
    "def predict(model, comment_list, input_tensor, device=\"cpu\"):\n",
    "    \"\"\"\n",
    "    model로 input_tensor를 추론해서 긍정/부정적인 댓글인지 출력\n",
    "    출력형식\n",
    "        comment(댓글) label    확룔\n",
    "        \"아 재미없다:  부정     0.9\n",
    "        \"재밌다.\"\n",
    "    \"\"\"\n",
    "\n",
    "    model.eval()\n",
    "\n",
    "    model = model.to(device)\n",
    "\n",
    "    with torch.no_grad():\n",
    "        pred = model(input_tensor)\n",
    "\n",
    "        for txt, pos_proba in zip(comment_list, pred):\n",
    "            label = \"긍정\" if pos_proba.item() >= 0.5 else \"부정\"\n",
    "            proba = pos_proba.item() if pos_proba.item() >= 0.5 else 1 - pos_proba.item()\n",
    "\n",
    "            print(txt, label, round(proba, 3), sep=\"\\t\")\n"
   ]
  },
  {
   "cell_type": "code",
   "execution_count": 99,
   "id": "5273ac02-81f3-4391-b802-f9dca1f8d032",
   "metadata": {},
   "outputs": [
    {
     "name": "stdout",
     "output_type": "stream",
     "text": [
      "아 진짜 재미없다.\t부정\t0.994\n",
      "여기 식당 먹을만 해요\t긍정\t0.705\n",
      "이걸 영화라고 만들었냐?\t부정\t0.99\n",
      "기대 안하고 봐서 그런지 괜찮은데.\t긍정\t0.715\n",
      "이걸 영화라고 만들었나?\t부정\t0.99\n",
      "아! 뭐야 진짜.\t부정\t0.846\n",
      "재미있는데.\t긍정\t0.959\n",
      "연기 짱 좋아. 한번 더 볼 의향도 있다.\t긍정\t0.989\n",
      "뭐 그럭저럭\t부정\t0.974\n"
     ]
    }
   ],
   "source": [
    "predict(load_model, comment_list, input_tensor, device)"
   ]
  },
  {
   "cell_type": "code",
   "execution_count": null,
   "id": "a0510a47-9189-4c2a-a6e9-33b04971f2b6",
   "metadata": {},
   "outputs": [],
   "source": []
  }
 ],
 "metadata": {
  "kernelspec": {
   "display_name": "dl",
   "language": "python",
   "name": "python3"
  },
  "language_info": {
   "codemirror_mode": {
    "name": "ipython",
    "version": 3
   },
   "file_extension": ".py",
   "mimetype": "text/x-python",
   "name": "python",
   "nbconvert_exporter": "python",
   "pygments_lexer": "ipython3",
   "version": "3.12.10"
  }
 },
 "nbformat": 4,
 "nbformat_minor": 5
}
