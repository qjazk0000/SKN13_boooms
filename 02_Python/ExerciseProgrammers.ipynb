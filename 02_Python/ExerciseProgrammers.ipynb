{
 "cells": [
  {
   "cell_type": "code",
   "execution_count": 70,
   "id": "c915e51d-8516-4c02-a2f5-e17173cc8a4d",
   "metadata": {},
   "outputs": [],
   "source": [
    "from collections import Counter\n",
    "\n",
    "def solution(X, Y):\n",
    "    x_count = Counter(X)\n",
    "    y_count = Counter(Y)\n",
    "    \n",
    "    result = []\n",
    "\n",
    "    for digit in map(str, range(10)):  # '0' ~ '9'\n",
    "        if digit in x_count and digit in y_count:\n",
    "            # 둘 중 작은 개수만큼 사용 가능\n",
    "            min_count = min(x_count[digit], y_count[digit])\n",
    "            result.extend([digit] * min_count)\n",
    "\n",
    "    if not result:\n",
    "        return \"-1\"\n",
    "    \n",
    "    result.sort(reverse=True)\n",
    "    answer = ''.join(result)\n",
    "    \n",
    "    if answer[0] == '0':\n",
    "        return \"0\"\n",
    "    \n",
    "    return answer\n"
   ]
  },
  {
   "cell_type": "code",
   "execution_count": 71,
   "id": "a33fa58c-8d2a-4fd7-845d-87a61391af25",
   "metadata": {},
   "outputs": [
    {
     "name": "stdout",
     "output_type": "stream",
     "text": [
      "-1\n",
      "0\n",
      "10\n",
      "552\n"
     ]
    }
   ],
   "source": [
    "print(solution(\"100\", \"2345\"))      # \"-1\"\n",
    "print(solution(\"100\", \"203045\"))    # \"0\"\n",
    "print(solution(\"100\", \"123450\"))    # \"10\"\n",
    "print(solution(\"5525\", \"1255\"))     # \"552\"\n"
   ]
  },
  {
   "cell_type": "code",
   "execution_count": 78,
   "id": "f3f27d21-c929-4d90-ad3c-1163cc20b474",
   "metadata": {},
   "outputs": [
    {
     "name": "stdout",
     "output_type": "stream",
     "text": [
      "31415\n",
      "<class 'str'>\n"
     ]
    }
   ],
   "source": [
    "num = [3, 1, 4, 1, 5]\n",
    "\n",
    "nums = map(str, num)\n",
    "# print(nums)\n",
    "\n",
    "result = ''.join(nums)\n",
    "print(result)\n",
    "print(type(result))"
   ]
  },
  {
   "cell_type": "code",
   "execution_count": 80,
   "id": "84952f04-06c3-4f9b-bcbe-1cb84750805b",
   "metadata": {},
   "outputs": [
    {
     "name": "stdout",
     "output_type": "stream",
     "text": [
      "[1, 2, 3]\n",
      "<class 'list'>\n"
     ]
    }
   ],
   "source": [
    "str_nums = ['1', '2', '3']\n",
    "#int_nums = map(int, str_nums)\n",
    "#result = [x for x in int_nums]\n",
    "result = list(map(int, str_nums))\n",
    "print(result)\n",
    "print(type(result))"
   ]
  },
  {
   "cell_type": "code",
   "execution_count": null,
   "id": "35d89412-9e14-4237-9d31-721bdf746e2e",
   "metadata": {},
   "outputs": [],
   "source": [
    "nums = [1, 2, 3, 4, 5, 6]\n",
    "\n",
    "str_evens = map(str, [x for x in nums if x % 2 == 0])\n",
    "\n",
    "result = ''.join(str_evens)\n",
    "\n",
    "print(result)\n",
    "print(type(result))"
   ]
  },
  {
   "cell_type": "code",
   "execution_count": 9,
   "id": "5cdb3f7b-874b-49ab-ab80-73d5c3d0fe12",
   "metadata": {},
   "outputs": [],
   "source": [
    "def solution(cards):\n",
    "    N = len(cards)  # 상자의 개수 확인\n",
    "    visited_check = [False for x in range(N)]  # 방문한 상자 여부\n",
    "    group_size = []\n",
    "\n",
    "    for i in range(N):  # 모든 상자에 대한 반복\n",
    "        if not visited_check[i]:\n",
    "            cnt = 0\n",
    "            select_number = i\n",
    "            while not visited_check[select_number]:\n",
    "                visited_check[select_number] = True\n",
    "                select_number = cards[select_number] - 1\n",
    "                cnt += 1\n",
    "            if cnt > 0:\n",
    "                group_size.append(cnt)\n",
    "\n",
    "    if len(group_size) < 2:\n",
    "        answer = 0\n",
    "        return answer\n",
    "\n",
    "    group_size.sort(reverse=True)\n",
    "    answer = group_size[0] * group_size[1]\n",
    "\n",
    "    return answer"
   ]
  },
  {
   "cell_type": "code",
   "execution_count": 10,
   "id": "791935cf-3ca9-46e8-9538-0b43babc1cd8",
   "metadata": {},
   "outputs": [
    {
     "name": "stdout",
     "output_type": "stream",
     "text": [
      "12\n"
     ]
    }
   ],
   "source": [
    "box = [8, 6, 3, 7, 2, 5, 1, 4]\n",
    "\n",
    "answer = solution(box)\n",
    "\n",
    "print(answer)"
   ]
  },
  {
   "cell_type": "code",
   "execution_count": 19,
   "id": "7ddf67c1-4601-41ed-9219-6bda7c13dde9",
   "metadata": {},
   "outputs": [],
   "source": [
    "def solution(k, m, score):\n",
    "\n",
    "    answer = 0\n",
    "    \n",
    "    score.sort(reverse=True)\n",
    "\n",
    "    for i in range(0, len(score), m):\n",
    "        if i+m > len(score):\n",
    "            break\n",
    "        answer += score[i+m-1] * m\n",
    "\n",
    "    return answer\n",
    "            "
   ]
  },
  {
   "cell_type": "code",
   "execution_count": 20,
   "id": "dd0197a9-c47e-40c2-92d4-009c62cbbe51",
   "metadata": {},
   "outputs": [
    {
     "name": "stdout",
     "output_type": "stream",
     "text": [
      "8\n",
      "33\n"
     ]
    }
   ],
   "source": [
    "answer = solution(3, 4, [1,2,3,1,2,3,1])\n",
    "print(answer)\n",
    "\n",
    "answer = solution(4, 3, [4,1,2,2,4,4,4,4,1,2,4,2])\n",
    "print(answer)"
   ]
  },
  {
   "cell_type": "code",
   "execution_count": 23,
   "id": "0a50f435-182c-4ea6-b976-dbdfcb5d22bf",
   "metadata": {},
   "outputs": [],
   "source": [
    "def solution(k, d):\n",
    "\n",
    "    answer = 0\n",
    "\n",
    "    for x in range(0, d+1, k):\n",
    "        max_y = int((d**2 - x**2) ** 0.5)\n",
    "        count_y = max_y // k + 1\n",
    "        answer += count_y\n",
    "\n",
    "    return answer"
   ]
  },
  {
   "cell_type": "code",
   "execution_count": 25,
   "id": "563470e7-ec2e-4f50-becc-c191c92eab92",
   "metadata": {},
   "outputs": [
    {
     "name": "stdout",
     "output_type": "stream",
     "text": [
      "6\n",
      "26\n"
     ]
    }
   ],
   "source": [
    "answer = solution(2, 4)\n",
    "print(answer)\n",
    "\n",
    "answer = solution(1, 5)\n",
    "print(answer)"
   ]
  },
  {
   "cell_type": "code",
   "execution_count": 47,
   "id": "89a36165-d9ab-496f-b8f0-25bbcbb7341f",
   "metadata": {},
   "outputs": [],
   "source": [
    "from itertools import combinations\n",
    "\n",
    "def solution(nums):\n",
    "    part_list = list(combinations(nums, 3))\n",
    "    sum_list = []\n",
    "    count = 0\n",
    "    \n",
    "    for _ in part_list:\n",
    "        sum_list.append(sum(_))\n",
    "\n",
    "    for i in range(len(sum_list)):\n",
    "        prime_check = 0\n",
    "        for j in range(2, int(sum_list[i]**0.5 + 1)):\n",
    "            if sum_list[i] % j == 0:\n",
    "                prime_check += 1\n",
    "                break\n",
    "        if prime_check == 0:\n",
    "            count += 1\n",
    "          \n",
    "\n",
    "    return count\n",
    "    "
   ]
  },
  {
   "cell_type": "code",
   "execution_count": 49,
   "id": "f01b66ed-6f31-4bbc-9132-f94cf8db2834",
   "metadata": {},
   "outputs": [
    {
     "name": "stdout",
     "output_type": "stream",
     "text": [
      "1\n",
      "4\n"
     ]
    }
   ],
   "source": [
    "nums = [1,2,3,4]\n",
    "print(solution(nums))\n",
    "\n",
    "nums = [1,2,7,6,4]\n",
    "print(solution(nums))"
   ]
  }
 ],
 "metadata": {
  "kernelspec": {
   "display_name": "Python 3 (ipykernel)",
   "language": "python",
   "name": "python3"
  },
  "language_info": {
   "codemirror_mode": {
    "name": "ipython",
    "version": 3
   },
   "file_extension": ".py",
   "mimetype": "text/x-python",
   "name": "python",
   "nbconvert_exporter": "python",
   "pygments_lexer": "ipython3",
   "version": "3.12.9"
  }
 },
 "nbformat": 4,
 "nbformat_minor": 5
}
