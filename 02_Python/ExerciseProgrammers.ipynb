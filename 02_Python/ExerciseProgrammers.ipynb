{
 "cells": [
  {
   "cell_type": "code",
   "execution_count": 70,
   "id": "c915e51d-8516-4c02-a2f5-e17173cc8a4d",
   "metadata": {},
   "outputs": [],
   "source": [
    "from collections import Counter\n",
    "\n",
    "def solution(X, Y):\n",
    "    x_count = Counter(X)\n",
    "    y_count = Counter(Y)\n",
    "    \n",
    "    result = []\n",
    "\n",
    "    for digit in map(str, range(10)):  # '0' ~ '9'\n",
    "        if digit in x_count and digit in y_count:\n",
    "            # 둘 중 작은 개수만큼 사용 가능\n",
    "            min_count = min(x_count[digit], y_count[digit])\n",
    "            result.extend([digit] * min_count)\n",
    "\n",
    "    if not result:\n",
    "        return \"-1\"\n",
    "    \n",
    "    result.sort(reverse=True)\n",
    "    answer = ''.join(result)\n",
    "    \n",
    "    if answer[0] == '0':\n",
    "        return \"0\"\n",
    "    \n",
    "    return answer\n"
   ]
  },
  {
   "cell_type": "code",
   "execution_count": 71,
   "id": "a33fa58c-8d2a-4fd7-845d-87a61391af25",
   "metadata": {},
   "outputs": [
    {
     "name": "stdout",
     "output_type": "stream",
     "text": [
      "-1\n",
      "0\n",
      "10\n",
      "552\n"
     ]
    }
   ],
   "source": [
    "print(solution(\"100\", \"2345\"))      # \"-1\"\n",
    "print(solution(\"100\", \"203045\"))    # \"0\"\n",
    "print(solution(\"100\", \"123450\"))    # \"10\"\n",
    "print(solution(\"5525\", \"1255\"))     # \"552\"\n"
   ]
  },
  {
   "cell_type": "code",
   "execution_count": 78,
   "id": "f3f27d21-c929-4d90-ad3c-1163cc20b474",
   "metadata": {},
   "outputs": [
    {
     "name": "stdout",
     "output_type": "stream",
     "text": [
      "31415\n",
      "<class 'str'>\n"
     ]
    }
   ],
   "source": [
    "num = [3, 1, 4, 1, 5]\n",
    "\n",
    "nums = map(str, num)\n",
    "# print(nums)\n",
    "\n",
    "result = ''.join(nums)\n",
    "print(result)\n",
    "print(type(result))"
   ]
  },
  {
   "cell_type": "code",
   "execution_count": 80,
   "id": "84952f04-06c3-4f9b-bcbe-1cb84750805b",
   "metadata": {},
   "outputs": [
    {
     "name": "stdout",
     "output_type": "stream",
     "text": [
      "[1, 2, 3]\n",
      "<class 'list'>\n"
     ]
    }
   ],
   "source": [
    "str_nums = ['1', '2', '3']\n",
    "#int_nums = map(int, str_nums)\n",
    "#result = [x for x in int_nums]\n",
    "result = list(map(int, str_nums))\n",
    "print(result)\n",
    "print(type(result))"
   ]
  },
  {
   "cell_type": "code",
   "execution_count": null,
   "id": "35d89412-9e14-4237-9d31-721bdf746e2e",
   "metadata": {},
   "outputs": [],
   "source": [
    "nums = [1, 2, 3, 4, 5, 6]\n",
    "\n",
    "str_evens = map(str, [x for x in nums if x % 2 == 0])\n",
    "\n",
    "result = ''.join(str_evens)\n",
    "\n",
    "print(result)\n",
    "print(type(result))"
   ]
  },
  {
   "cell_type": "code",
   "execution_count": 111,
   "id": "5cdb3f7b-874b-49ab-ab80-73d5c3d0fe12",
   "metadata": {},
   "outputs": [],
   "source": [
    "def solution(cards):\n",
    "    answer = 1\n",
    "    dummy = cards\n",
    "\n",
    "    answer_list = []\n",
    "\n",
    "    for index in range(len(dummy)):\n",
    "        print(\"for index - 안 입니다\")\n",
    "        dummy = cards\n",
    "        n_group = []\n",
    "        select_index = index-1\n",
    "        while dummy != []:\n",
    "            print(\"while 안 입니다.\")\n",
    "            if dummy[select_index] != 0:\n",
    "                dummy[select_index] = 0\n",
    "                n_group.append(dummy[select_index])\n",
    "                select_index = dummy[select_index]-1\n",
    "            else:\n",
    "                answer *= len(n_group)\n",
    "                n_group = []\n",
    "                break\n",
    "\n",
    "            if sum(dummy) == 0:\n",
    "                answer_list.append(answer)\n",
    "                break\n",
    "\n",
    "    answer = max(answer_list)\n",
    "\n",
    "    return answer\n",
    "        "
   ]
  },
  {
   "cell_type": "code",
   "execution_count": 112,
   "id": "791935cf-3ca9-46e8-9538-0b43babc1cd8",
   "metadata": {},
   "outputs": [
    {
     "name": "stdout",
     "output_type": "stream",
     "text": [
      "for index - 안 입니다\n",
      "while 안 입니다.\n",
      "while 안 입니다.\n",
      "for index - 안 입니다\n",
      "while 안 입니다.\n",
      "while 안 입니다.\n",
      "for index - 안 입니다\n",
      "while 안 입니다.\n",
      "while 안 입니다.\n",
      "for index - 안 입니다\n",
      "while 안 입니다.\n",
      "while 안 입니다.\n",
      "for index - 안 입니다\n",
      "while 안 입니다.\n",
      "while 안 입니다.\n",
      "for index - 안 입니다\n",
      "while 안 입니다.\n",
      "while 안 입니다.\n",
      "for index - 안 입니다\n",
      "while 안 입니다.\n",
      "while 안 입니다.\n",
      "for index - 안 입니다\n",
      "while 안 입니다.\n",
      "1\n"
     ]
    }
   ],
   "source": [
    "box = [8, 6, 3, 7, 2, 5, 1, 4]\n",
    "\n",
    "answer = solution(box)\n",
    "\n",
    "print(answer)"
   ]
  }
 ],
 "metadata": {
  "kernelspec": {
   "display_name": "Python 3 (ipykernel)",
   "language": "python",
   "name": "python3"
  },
  "language_info": {
   "codemirror_mode": {
    "name": "ipython",
    "version": 3
   },
   "file_extension": ".py",
   "mimetype": "text/x-python",
   "name": "python",
   "nbconvert_exporter": "python",
   "pygments_lexer": "ipython3",
   "version": "3.12.9"
  }
 },
 "nbformat": 4,
 "nbformat_minor": 5
}
