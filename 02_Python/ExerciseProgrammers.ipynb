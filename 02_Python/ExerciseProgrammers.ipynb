{
 "cells": [
  {
   "cell_type": "code",
   "execution_count": 70,
   "id": "c915e51d-8516-4c02-a2f5-e17173cc8a4d",
   "metadata": {},
   "outputs": [],
   "source": [
    "from collections import Counter\n",
    "\n",
    "def solution(X, Y):\n",
    "    x_count = Counter(X)\n",
    "    y_count = Counter(Y)\n",
    "    \n",
    "    result = []\n",
    "\n",
    "    for digit in map(str, range(10)):  # '0' ~ '9'\n",
    "        if digit in x_count and digit in y_count:\n",
    "            # 둘 중 작은 개수만큼 사용 가능\n",
    "            min_count = min(x_count[digit], y_count[digit])\n",
    "            result.extend([digit] * min_count)\n",
    "\n",
    "    if not result:\n",
    "        return \"-1\"\n",
    "    \n",
    "    result.sort(reverse=True)\n",
    "    answer = ''.join(result)\n",
    "    \n",
    "    if answer[0] == '0':\n",
    "        return \"0\"\n",
    "    \n",
    "    return answer\n"
   ]
  },
  {
   "cell_type": "code",
   "execution_count": 71,
   "id": "a33fa58c-8d2a-4fd7-845d-87a61391af25",
   "metadata": {},
   "outputs": [
    {
     "name": "stdout",
     "output_type": "stream",
     "text": [
      "-1\n",
      "0\n",
      "10\n",
      "552\n"
     ]
    }
   ],
   "source": [
    "print(solution(\"100\", \"2345\"))      # \"-1\"\n",
    "print(solution(\"100\", \"203045\"))    # \"0\"\n",
    "print(solution(\"100\", \"123450\"))    # \"10\"\n",
    "print(solution(\"5525\", \"1255\"))     # \"552\"\n"
   ]
  },
  {
   "cell_type": "code",
   "execution_count": 78,
   "id": "f3f27d21-c929-4d90-ad3c-1163cc20b474",
   "metadata": {},
   "outputs": [
    {
     "name": "stdout",
     "output_type": "stream",
     "text": [
      "31415\n",
      "<class 'str'>\n"
     ]
    }
   ],
   "source": [
    "num = [3, 1, 4, 1, 5]\n",
    "\n",
    "nums = map(str, num)\n",
    "# print(nums)\n",
    "\n",
    "result = ''.join(nums)\n",
    "print(result)\n",
    "print(type(result))"
   ]
  },
  {
   "cell_type": "code",
   "execution_count": 80,
   "id": "84952f04-06c3-4f9b-bcbe-1cb84750805b",
   "metadata": {},
   "outputs": [
    {
     "name": "stdout",
     "output_type": "stream",
     "text": [
      "[1, 2, 3]\n",
      "<class 'list'>\n"
     ]
    }
   ],
   "source": [
    "str_nums = ['1', '2', '3']\n",
    "#int_nums = map(int, str_nums)\n",
    "#result = [x for x in int_nums]\n",
    "result = list(map(int, str_nums))\n",
    "print(result)\n",
    "print(type(result))"
   ]
  },
  {
   "cell_type": "code",
   "execution_count": null,
   "id": "35d89412-9e14-4237-9d31-721bdf746e2e",
   "metadata": {},
   "outputs": [],
   "source": [
    "nums = [1, 2, 3, 4, 5, 6]\n",
    "\n",
    "str_evens = map(str, [x for x in nums if x % 2 == 0])\n",
    "\n",
    "result = ''.join(str_evens)\n",
    "\n",
    "print(result)\n",
    "print(type(result))"
   ]
  },
  {
   "cell_type": "code",
   "execution_count": 9,
   "id": "5cdb3f7b-874b-49ab-ab80-73d5c3d0fe12",
   "metadata": {},
   "outputs": [],
   "source": [
    "def solution(cards):\n",
    "    N = len(cards)  # 상자의 개수 확인\n",
    "    visited_check = [False for x in range(N)]  # 방문한 상자 여부\n",
    "    group_size = []\n",
    "\n",
    "    for i in range(N):  # 모든 상자에 대한 반복\n",
    "        if not visited_check[i]:\n",
    "            cnt = 0\n",
    "            select_number = i\n",
    "            while not visited_check[select_number]:\n",
    "                visited_check[select_number] = True\n",
    "                select_number = cards[select_number] - 1\n",
    "                cnt += 1\n",
    "            if cnt > 0:\n",
    "                group_size.append(cnt)\n",
    "\n",
    "    if len(group_size) < 2:\n",
    "        answer = 0\n",
    "        return answer\n",
    "\n",
    "    group_size.sort(reverse=True)\n",
    "    answer = group_size[0] * group_size[1]\n",
    "\n",
    "    return answer"
   ]
  },
  {
   "cell_type": "code",
   "execution_count": 10,
   "id": "791935cf-3ca9-46e8-9538-0b43babc1cd8",
   "metadata": {},
   "outputs": [
    {
     "name": "stdout",
     "output_type": "stream",
     "text": [
      "12\n"
     ]
    }
   ],
   "source": [
    "box = [8, 6, 3, 7, 2, 5, 1, 4]\n",
    "\n",
    "answer = solution(box)\n",
    "\n",
    "print(answer)"
   ]
  },
  {
   "cell_type": "code",
   "execution_count": 19,
   "id": "7ddf67c1-4601-41ed-9219-6bda7c13dde9",
   "metadata": {},
   "outputs": [],
   "source": [
    "def solution(k, m, score):\n",
    "\n",
    "    answer = 0\n",
    "    \n",
    "    score.sort(reverse=True)\n",
    "\n",
    "    for i in range(0, len(score), m):\n",
    "        if i+m > len(score):\n",
    "            break\n",
    "        answer += score[i+m-1] * m\n",
    "\n",
    "    return answer\n",
    "            "
   ]
  },
  {
   "cell_type": "code",
   "execution_count": 20,
   "id": "dd0197a9-c47e-40c2-92d4-009c62cbbe51",
   "metadata": {},
   "outputs": [
    {
     "name": "stdout",
     "output_type": "stream",
     "text": [
      "8\n",
      "33\n"
     ]
    }
   ],
   "source": [
    "answer = solution(3, 4, [1,2,3,1,2,3,1])\n",
    "print(answer)\n",
    "\n",
    "answer = solution(4, 3, [4,1,2,2,4,4,4,4,1,2,4,2])\n",
    "print(answer)"
   ]
  },
  {
   "cell_type": "code",
   "execution_count": 23,
   "id": "0a50f435-182c-4ea6-b976-dbdfcb5d22bf",
   "metadata": {},
   "outputs": [],
   "source": [
    "def solution(k, d):\n",
    "\n",
    "    answer = 0\n",
    "\n",
    "    for x in range(0, d+1, k):\n",
    "        max_y = int((d**2 - x**2) ** 0.5)\n",
    "        count_y = max_y // k + 1\n",
    "        answer += count_y\n",
    "\n",
    "    return answer"
   ]
  },
  {
   "cell_type": "code",
   "execution_count": 25,
   "id": "563470e7-ec2e-4f50-becc-c191c92eab92",
   "metadata": {},
   "outputs": [
    {
     "name": "stdout",
     "output_type": "stream",
     "text": [
      "6\n",
      "26\n"
     ]
    }
   ],
   "source": [
    "answer = solution(2, 4)\n",
    "print(answer)\n",
    "\n",
    "answer = solution(1, 5)\n",
    "print(answer)"
   ]
  },
  {
   "cell_type": "code",
   "execution_count": 47,
   "id": "89a36165-d9ab-496f-b8f0-25bbcbb7341f",
   "metadata": {},
   "outputs": [],
   "source": [
    "from itertools import combinations\n",
    "\n",
    "def solution(nums):\n",
    "    part_list = list(combinations(nums, 3))\n",
    "    sum_list = []\n",
    "    count = 0\n",
    "    \n",
    "    for _ in part_list:\n",
    "        sum_list.append(sum(_))\n",
    "\n",
    "    for i in range(len(sum_list)):\n",
    "        prime_check = 0\n",
    "        for j in range(2, int(sum_list[i]**0.5 + 1)):\n",
    "            if sum_list[i] % j == 0:\n",
    "                prime_check += 1\n",
    "                break\n",
    "        if prime_check == 0:\n",
    "            count += 1\n",
    "          \n",
    "\n",
    "    return count\n",
    "    "
   ]
  },
  {
   "cell_type": "code",
   "execution_count": 49,
   "id": "f01b66ed-6f31-4bbc-9132-f94cf8db2834",
   "metadata": {},
   "outputs": [
    {
     "name": "stdout",
     "output_type": "stream",
     "text": [
      "1\n",
      "4\n"
     ]
    }
   ],
   "source": [
    "nums = [1,2,3,4]\n",
    "print(solution(nums))\n",
    "\n",
    "nums = [1,2,7,6,4]\n",
    "print(solution(nums))"
   ]
  },
  {
   "cell_type": "code",
   "execution_count": 5,
   "id": "88897cda-d978-42e1-8924-4895bd626fe8",
   "metadata": {},
   "outputs": [],
   "source": [
    "def solution(n, times):\n",
    "    # 시간을 최소.\n",
    "    answer = 0\n",
    "\n",
    "    left = 1\n",
    "    right = max(times)*n\n",
    "    answer = right\n",
    "    \n",
    "    while left <= right:\n",
    "\n",
    "        mid = (left + right) // 2\n",
    "        # mid 시간 동안 각 심사관이 몇 명 처리할 수 있는지 합산\n",
    "\n",
    "        total_check = 0\n",
    "        \n",
    "        for time in times:\n",
    "            total_check += mid // time\n",
    "\n",
    "        if total_check >= n:\n",
    "            answer = mid\n",
    "            right = mid - 1\n",
    "        else:\n",
    "            left = mid + 1\n",
    "\n",
    "    return answer\n",
    "        "
   ]
  },
  {
   "cell_type": "code",
   "execution_count": 6,
   "id": "f1a54404-4062-4397-8c49-5bbe98fd8149",
   "metadata": {},
   "outputs": [
    {
     "name": "stdout",
     "output_type": "stream",
     "text": [
      "28\n"
     ]
    }
   ],
   "source": [
    "answer = solution(6, [7, 10])\n",
    "\n",
    "print(answer)"
   ]
  },
  {
   "cell_type": "code",
   "execution_count": 20,
   "id": "b3be5251-70e5-4a7b-a1d7-8a0483255109",
   "metadata": {},
   "outputs": [],
   "source": [
    "def solution(a, b, g, s, w, t):\n",
    "    left = 1\n",
    "    right = 10**15\n",
    "    answer = 0\n",
    "    \n",
    "    while left <= right:\n",
    "        is_possible = False\n",
    "\n",
    "        mid = (left + right) // 2\n",
    "        move = []   # 왕복 가능 횟수 리스트\n",
    "\n",
    "        # 왕복 횟수 계산\n",
    "        for _ in range(len(t)):\n",
    "            move.append(mid // (2*t[_]))\n",
    "            if mid%(2*t[_]) >= t[_]:\n",
    "                move[_] += 1\n",
    "\n",
    "        max_move_weight = []\n",
    "        \n",
    "        for _ in range(len(w)):\n",
    "            max_move_weight.append(w[_] * move[_])\n",
    "\n",
    "        can_move_gold = []\n",
    "        can_move_silver = []\n",
    "\n",
    "        for _ in range(len(max_move_weight)):\n",
    "            can_move_gold.append(min(g[_], max_move_weight[_]))\n",
    "            can_move_silver.append(min(s[_], max_move_weight[_]))\n",
    "\n",
    "        if sum(can_move_gold) >= a and sum(can_move_silver) >= b:\n",
    "            right = mid - 1\n",
    "            answer = mid\n",
    "\n",
    "        else:\n",
    "            left = mid + 1\n",
    "\n",
    "    return answer\n",
    "        "
   ]
  },
  {
   "cell_type": "code",
   "execution_count": 18,
   "id": "0fa26002-a836-4625-b1e4-4e2ad72d2732",
   "metadata": {},
   "outputs": [],
   "source": [
    "def solution(a, b, g, s, w, t):\n",
    "    left = 1\n",
    "    right = 10**15\n",
    "    answer = right\n",
    "\n",
    "    while left <= right:\n",
    "        mid = (left + right) // 2\n",
    "        total_gold = 0\n",
    "        total_silver = 0\n",
    "        total = 0\n",
    "\n",
    "        for i in range(len(t)):\n",
    "            move = mid // (2 * t[i])\n",
    "            if mid % (2 * t[i]) >= t[i]:\n",
    "                move += 1\n",
    "\n",
    "            max_weight = move * w[i]\n",
    "\n",
    "            total_gold += min(g[i], max_weight)\n",
    "            total_silver += min(s[i], max_weight)\n",
    "            total += min(g[i] + s[i], max_weight)\n",
    "\n",
    "        if total_gold >= a and total_silver >= b and total >= a + b:\n",
    "            answer = mid\n",
    "            right = mid - 1\n",
    "        else:\n",
    "            left = mid + 1\n",
    "\n",
    "    return answer\n"
   ]
  },
  {
   "cell_type": "code",
   "execution_count": 21,
   "id": "85149e2a-d46f-4887-b207-79a9c3bd3caf",
   "metadata": {},
   "outputs": [
    {
     "name": "stdout",
     "output_type": "stream",
     "text": [
      "30\n"
     ]
    }
   ],
   "source": [
    "answer = solution(10, 10, [100], [100], [7], [10])\n",
    "print(answer)"
   ]
  },
  {
   "cell_type": "code",
   "execution_count": 30,
   "id": "b7edd71c-9b22-454a-a054-b78b74afa61d",
   "metadata": {},
   "outputs": [
    {
     "name": "stdin",
     "output_type": "stream",
     "text": [
      " 4859\n"
     ]
    },
    {
     "name": "stdout",
     "output_type": "stream",
     "text": [
      "107\n"
     ]
    }
   ],
   "source": [
    "number = int(input())\n",
    "\n",
    "answer = 0\n",
    "\n",
    "while number != 0:\n",
    "    answer += number % 100\n",
    "    number //= 100\n",
    "\n",
    "print(answer)"
   ]
  },
  {
   "cell_type": "code",
   "execution_count": 65,
   "id": "4d5153b6-63b3-4250-9f4e-c83ddc2e3bd1",
   "metadata": {},
   "outputs": [],
   "source": [
    "def solution(storage, usage, change):\n",
    "    total_usage = 0\n",
    "    for i in range(len(change)):\n",
    "        usage += usage * change[i]/100\n",
    "        total_usage += usage\n",
    "        print(\"total usage:\", total_usage)\n",
    "        if total_usage > storage:\n",
    "            return i\n",
    "    \n",
    "    return -1"
   ]
  },
  {
   "cell_type": "code",
   "execution_count": 66,
   "id": "ce73d7cc-fccb-44cb-9de7-b8161409c613",
   "metadata": {},
   "outputs": [
    {
     "name": "stdout",
     "output_type": "stream",
     "text": [
      "total usage: 550.0\n",
      "total usage: 1045.0\n",
      "total usage: 1589.5\n",
      "total usage: 2079.55\n",
      "total usage: 2618.6050000000005\n",
      "total usage: 3103.7545000000005\n",
      "total usage: 3637.4189500000007\n",
      "total usage: 4117.716955000001\n",
      "total usage: 4646.044760500001\n",
      "total usage: 5121.539785450001\n",
      "-1\n",
      "total usage: 1800.0\n",
      "0\n"
     ]
    }
   ],
   "source": [
    "print(solution(5141, 500, [10, -10, 10, -10, 10, -10, 10, -10, 10, -10]))\n",
    "print(solution(1000, 2000, [-10, 25, -33]))"
   ]
  },
  {
   "cell_type": "code",
   "execution_count": 70,
   "id": "05461bf8-d36e-4c27-a19e-1e68fb1928b1",
   "metadata": {},
   "outputs": [],
   "source": [
    "def solution(nickname):\n",
    "    answer = \"\"\n",
    "    for letter in nickname:\n",
    "        if letter == \"l\":\n",
    "            answer += \"I\"\n",
    "        elif letter == \"w\":\n",
    "            answer += \"vv\"\n",
    "        elif letter == \"W\":\n",
    "            answer += \"VV\"\n",
    "        elif letter == \"O\":\n",
    "            answer += \"0\"\n",
    "        else:\n",
    "            answer += letter\n",
    "    if len(answer) < 3:\n",
    "        answer += \"o\" * (4 - len(answer))\n",
    "    if len(answer) > 8:\n",
    "        answer = answer[:8]\n",
    "    return answer"
   ]
  },
  {
   "cell_type": "code",
   "execution_count": 71,
   "id": "2df39b69-d014-447e-9599-d8612079af65",
   "metadata": {},
   "outputs": [
    {
     "name": "stdout",
     "output_type": "stream",
     "text": [
      "VV0RLDvv\n",
      "G0oo\n"
     ]
    }
   ],
   "source": [
    "print(solution(\"WORLDworld\"))\n",
    "print(solution(\"GO\"))"
   ]
  },
  {
   "cell_type": "code",
   "execution_count": 80,
   "id": "43527b7c-a402-490d-ad5b-cfb08462ac1e",
   "metadata": {},
   "outputs": [],
   "source": [
    "def solution(numbers, our_score, score_list):\n",
    "    answer = []\n",
    "    for i in range(len(numbers)):\n",
    "        if our_score[i] == score_list[numbers[i]-1]:\n",
    "            answer.append(\"Same\")\n",
    "        else:\n",
    "            answer.append(\"Different\")\n",
    "    \n",
    "    return answer"
   ]
  },
  {
   "cell_type": "code",
   "execution_count": 81,
   "id": "4e01a41a-e0fa-4671-9381-bdbc2cbcace9",
   "metadata": {},
   "outputs": [
    {
     "name": "stdout",
     "output_type": "stream",
     "text": [
      "['Same']\n",
      "['Different', 'Same']\n"
     ]
    }
   ],
   "source": [
    "print(solution([1], [100], [100, 80, 90, 84, 20]))\n",
    "print(solution([3, 4], [85, 93], [85, 92, 38, 93, 48, 85, 92, 56]))"
   ]
  },
  {
   "cell_type": "code",
   "execution_count": 82,
   "id": "2623f448-c87e-441d-aa70-bfe13a9f23c4",
   "metadata": {},
   "outputs": [],
   "source": [
    "def solution(storage, num):\n",
    "    clean_storage = []\n",
    "    clean_num = []\n",
    "    for i in range(len(storage)):\n",
    "        if storage[i] in clean_storage:\n",
    "            pos = clean_storage.index(storage[i])\n",
    "            clean_num[pos] += num[i]\n",
    "        else:\n",
    "            clean_storage.append(storage[i])\n",
    "            clean_num.append(num[i])\n",
    "            \n",
    "    # 아래 코드에는 틀린 부분이 없습니다.\n",
    "            \n",
    "    max_num = max(clean_num)\n",
    "    answer = clean_storage[clean_num.index(max_num)]\n",
    "    return answer"
   ]
  },
  {
   "cell_type": "code",
   "execution_count": 85,
   "id": "ac3cb89d-fbdf-42be-ab42-e0c08ed41bac",
   "metadata": {},
   "outputs": [
    {
     "name": "stdout",
     "output_type": "stream",
     "text": [
      "pencil\n",
      "doll\n",
      "leaf\n",
      "mirror\n"
     ]
    }
   ],
   "source": [
    "print(solution([\"pencil\", \"pencil\", \"pencil\", \"book\"], [2, 4, 3, 1]))\n",
    "print(solution([\"doll\", \"doll\", \"doll\", \"doll\"], [1, 1, 1, 1]))\n",
    "print(solution([\"apple\", \"steel\", \"leaf\", \"apple\", \"leaf\"], [5, 3, 5, 3, 7]))\n",
    "print(solution([\"mirror\", \"net\", \"mirror\", \"net\", \"bottle\"], [4, 1, 4, 1, 5]))"
   ]
  },
  {
   "cell_type": "code",
   "execution_count": 95,
   "id": "40231168-fc23-4aa3-beac-382bb418d6ec",
   "metadata": {},
   "outputs": [
    {
     "name": "stdin",
     "output_type": "stream",
     "text": [
      " aBcDeFg\n"
     ]
    },
    {
     "name": "stdout",
     "output_type": "stream",
     "text": [
      "AbCdEfG"
     ]
    }
   ],
   "source": [
    "str1 = input()\n",
    "\n",
    "for letter in str1:\n",
    "    if letter.isupper():\n",
    "        print(letter.lower(), end='')\n",
    "    else:\n",
    "        print(letter.upper(), end='')\n"
   ]
  },
  {
   "cell_type": "code",
   "execution_count": null,
   "id": "28b05e2c-eaae-4da5-998a-9ed3adc33b29",
   "metadata": {},
   "outputs": [],
   "source": [
    "str = \"a b c d\"\n",
    "\n",
    "li "
   ]
  },
  {
   "cell_type": "code",
   "execution_count": 1,
   "id": "788dcc34-0bb0-4aee-84df-1a9aefc844c8",
   "metadata": {},
   "outputs": [],
   "source": [
    "def solution(wallet, bill):\n",
    "    answer = 0  # 지폐 접은 횟수 저장\n",
    "\n",
    "    while min(bill) > min(wallet) or max(bill) > max(wallet):\n",
    "        if bill[0] > bill[1]:\n",
    "            bill[0] //= 2\n",
    "            \n",
    "        else:\n",
    "            bill[1] //= 2\n",
    "\n",
    "        answer += 1\n",
    "            \n",
    "\n",
    "    return answer"
   ]
  },
  {
   "cell_type": "code",
   "execution_count": 2,
   "id": "b13f9f6d-b727-4001-be09-93959d71fccc",
   "metadata": {},
   "outputs": [
    {
     "name": "stdout",
     "output_type": "stream",
     "text": [
      "1\n",
      "4\n"
     ]
    }
   ],
   "source": [
    "print(solution([30, 15], [26, 17]))\n",
    "print(solution([50, 50], [100, 241]))"
   ]
  },
  {
   "cell_type": "code",
   "execution_count": 4,
   "id": "2eec4dbc-039b-4ec7-8fc0-b86d4349a1d6",
   "metadata": {},
   "outputs": [],
   "source": [
    "def solution(board, h, w):\n",
    "    \n",
    "    length = len(board)\n",
    "    count = 0\n",
    "\n",
    "    dh = [0, 1, -1, 0]\n",
    "    dw = [1, 0, 0, -1]\n",
    "    #    오른쪽, 위, 아래, 왼쪽\n",
    "    \n",
    "    for i in range(len(dh)):\n",
    "        if h+dh[i] <0 or w+dw[i] <0:\n",
    "            pass\n",
    "        if board[h][w] == board[h+dh[i]][w+dw[i]]:\n",
    "            count += 1\n",
    "\n",
    "    return count\n",
    "            \n",
    "            "
   ]
  },
  {
   "cell_type": "code",
   "execution_count": 5,
   "id": "dd11a6c3-9799-41dc-bde6-08cf4ae48974",
   "metadata": {},
   "outputs": [
    {
     "name": "stdout",
     "output_type": "stream",
     "text": [
      "2\n",
      "1\n"
     ]
    }
   ],
   "source": [
    "board = [[\"blue\", \"red\", \"orange\", \"red\"], [\"red\", \"red\", \"blue\", \"orange\"], [\"blue\", \"orange\", \"red\", \"red\"], [\"orange\", \"orange\", \"red\", \"blue\"]]\n",
    "print(solution(board, 1, 1))\n",
    "\n",
    "board = [[\"yellow\", \"green\", \"blue\"], [\"blue\", \"green\", \"yellow\"], [\"yellow\", \"blue\", \"blue\"]]\n",
    "print(solution(board, 0, 1))"
   ]
  },
  {
   "cell_type": "code",
   "execution_count": 30,
   "id": "d1f2cbfd-1de7-460c-8836-af7660a506a6",
   "metadata": {},
   "outputs": [],
   "source": [
    "def solution(data, ext, val_ext, sort_by):\n",
    "    # [코드번호, 제조일, 최대수량, 현재수량]\n",
    "\n",
    "    attribute = [\"code\", \"date\", \"maximum\", \"remain\"]\n",
    "    answer= []\n",
    "    compare_index = attribute.index(ext)\n",
    "    # print(compare_index)\n",
    "    sort_index = attribute.index(sort_by)\n",
    "    # print(sort_index)\n",
    "\n",
    "    for i in range(len(data)):\n",
    "        if data[i][compare_index] < val_ext:\n",
    "            answer.append(data[i])\n",
    "            if len(answer) > 1 and answer[-2][sort_index] > answer[-1][sort_index]:\n",
    "                tmp = answer[-2]\n",
    "                answer[-2] = answer[-1]\n",
    "                answer[-1] = tmp\n",
    "\n",
    "    \n",
    "    return answer"
   ]
  },
  {
   "cell_type": "code",
   "execution_count": 31,
   "id": "e8c80e3f-43e4-401d-aa7f-3c8d00490a31",
   "metadata": {},
   "outputs": [
    {
     "name": "stdout",
     "output_type": "stream",
     "text": [
      "[[3, 20300401, 10, 8], [1, 20300104, 100, 80]]\n"
     ]
    }
   ],
   "source": [
    "data = [[1, 20300104, 100, 80], [2, 20300804, 847, 37], [3, 20300401, 10, 8]]\n",
    "\n",
    "print(solution(data, \"date\", 20300501, \"remain\"))"
   ]
  },
  {
   "cell_type": "code",
   "execution_count": 23,
   "id": "92331e06-833d-4747-8733-eec611373288",
   "metadata": {},
   "outputs": [
    {
     "data": {
      "text/plain": [
       "[1, 2, 3]"
      ]
     },
     "execution_count": 23,
     "metadata": {},
     "output_type": "execute_result"
    }
   ],
   "source": [
    "a = [[1,2,3],[4,5,6]]\n",
    "\n",
    "a[-2]"
   ]
  }
 ],
 "metadata": {
  "kernelspec": {
   "display_name": "Python 3 (ipykernel)",
   "language": "python",
   "name": "python3"
  },
  "language_info": {
   "codemirror_mode": {
    "name": "ipython",
    "version": 3
   },
   "file_extension": ".py",
   "mimetype": "text/x-python",
   "name": "python",
   "nbconvert_exporter": "python",
   "pygments_lexer": "ipython3",
   "version": "3.12.9"
  }
 },
 "nbformat": 4,
 "nbformat_minor": 5
}
